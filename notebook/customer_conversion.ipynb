{
 "cells": [
  {
   "cell_type": "markdown",
   "metadata": {},
   "source": [
    "# Customer Conversion"
   ]
  },
  {
   "cell_type": "code",
   "execution_count": 2,
   "metadata": {},
   "outputs": [],
   "source": [
    "import matplotlib.pyplot as plt\n",
    "import pandas as pd\n",
    "from sklearn import tree\n",
    "import graphviz\n",
    "from IPython.core.display import display, HTML"
   ]
  },
  {
   "cell_type": "code",
   "execution_count": 3,
   "metadata": {},
   "outputs": [],
   "source": [
    "plt.style.use('ggplot')"
   ]
  },
  {
   "cell_type": "markdown",
   "metadata": {},
   "source": [
    "## Loading Data"
   ]
  },
  {
   "cell_type": "code",
   "execution_count": 4,
   "metadata": {},
   "outputs": [],
   "source": [
    "df = pd.read_csv('../data/bank-full.csv', sep=\";\")"
   ]
  },
  {
   "cell_type": "code",
   "execution_count": 5,
   "metadata": {},
   "outputs": [
    {
     "data": {
      "text/plain": [
       "(45211, 17)"
      ]
     },
     "execution_count": 5,
     "metadata": {},
     "output_type": "execute_result"
    }
   ],
   "source": [
    "df.shape"
   ]
  },
  {
   "cell_type": "code",
   "execution_count": 6,
   "metadata": {},
   "outputs": [
    {
     "data": {
      "text/html": [
       "<div>\n",
       "<style scoped>\n",
       "    .dataframe tbody tr th:only-of-type {\n",
       "        vertical-align: middle;\n",
       "    }\n",
       "\n",
       "    .dataframe tbody tr th {\n",
       "        vertical-align: top;\n",
       "    }\n",
       "\n",
       "    .dataframe thead th {\n",
       "        text-align: right;\n",
       "    }\n",
       "</style>\n",
       "<table border=\"1\" class=\"dataframe\">\n",
       "  <thead>\n",
       "    <tr style=\"text-align: right;\">\n",
       "      <th></th>\n",
       "      <th>age</th>\n",
       "      <th>job</th>\n",
       "      <th>marital</th>\n",
       "      <th>education</th>\n",
       "      <th>default</th>\n",
       "      <th>balance</th>\n",
       "      <th>housing</th>\n",
       "      <th>loan</th>\n",
       "      <th>contact</th>\n",
       "      <th>day</th>\n",
       "      <th>month</th>\n",
       "      <th>duration</th>\n",
       "      <th>campaign</th>\n",
       "      <th>pdays</th>\n",
       "      <th>previous</th>\n",
       "      <th>poutcome</th>\n",
       "      <th>y</th>\n",
       "    </tr>\n",
       "  </thead>\n",
       "  <tbody>\n",
       "    <tr>\n",
       "      <th>0</th>\n",
       "      <td>58</td>\n",
       "      <td>management</td>\n",
       "      <td>married</td>\n",
       "      <td>tertiary</td>\n",
       "      <td>no</td>\n",
       "      <td>2143</td>\n",
       "      <td>yes</td>\n",
       "      <td>no</td>\n",
       "      <td>unknown</td>\n",
       "      <td>5</td>\n",
       "      <td>may</td>\n",
       "      <td>261</td>\n",
       "      <td>1</td>\n",
       "      <td>-1</td>\n",
       "      <td>0</td>\n",
       "      <td>unknown</td>\n",
       "      <td>no</td>\n",
       "    </tr>\n",
       "    <tr>\n",
       "      <th>1</th>\n",
       "      <td>44</td>\n",
       "      <td>technician</td>\n",
       "      <td>single</td>\n",
       "      <td>secondary</td>\n",
       "      <td>no</td>\n",
       "      <td>29</td>\n",
       "      <td>yes</td>\n",
       "      <td>no</td>\n",
       "      <td>unknown</td>\n",
       "      <td>5</td>\n",
       "      <td>may</td>\n",
       "      <td>151</td>\n",
       "      <td>1</td>\n",
       "      <td>-1</td>\n",
       "      <td>0</td>\n",
       "      <td>unknown</td>\n",
       "      <td>no</td>\n",
       "    </tr>\n",
       "    <tr>\n",
       "      <th>2</th>\n",
       "      <td>33</td>\n",
       "      <td>entrepreneur</td>\n",
       "      <td>married</td>\n",
       "      <td>secondary</td>\n",
       "      <td>no</td>\n",
       "      <td>2</td>\n",
       "      <td>yes</td>\n",
       "      <td>yes</td>\n",
       "      <td>unknown</td>\n",
       "      <td>5</td>\n",
       "      <td>may</td>\n",
       "      <td>76</td>\n",
       "      <td>1</td>\n",
       "      <td>-1</td>\n",
       "      <td>0</td>\n",
       "      <td>unknown</td>\n",
       "      <td>no</td>\n",
       "    </tr>\n",
       "    <tr>\n",
       "      <th>3</th>\n",
       "      <td>47</td>\n",
       "      <td>blue-collar</td>\n",
       "      <td>married</td>\n",
       "      <td>unknown</td>\n",
       "      <td>no</td>\n",
       "      <td>1506</td>\n",
       "      <td>yes</td>\n",
       "      <td>no</td>\n",
       "      <td>unknown</td>\n",
       "      <td>5</td>\n",
       "      <td>may</td>\n",
       "      <td>92</td>\n",
       "      <td>1</td>\n",
       "      <td>-1</td>\n",
       "      <td>0</td>\n",
       "      <td>unknown</td>\n",
       "      <td>no</td>\n",
       "    </tr>\n",
       "    <tr>\n",
       "      <th>4</th>\n",
       "      <td>33</td>\n",
       "      <td>unknown</td>\n",
       "      <td>single</td>\n",
       "      <td>unknown</td>\n",
       "      <td>no</td>\n",
       "      <td>1</td>\n",
       "      <td>no</td>\n",
       "      <td>no</td>\n",
       "      <td>unknown</td>\n",
       "      <td>5</td>\n",
       "      <td>may</td>\n",
       "      <td>198</td>\n",
       "      <td>1</td>\n",
       "      <td>-1</td>\n",
       "      <td>0</td>\n",
       "      <td>unknown</td>\n",
       "      <td>no</td>\n",
       "    </tr>\n",
       "  </tbody>\n",
       "</table>\n",
       "</div>"
      ],
      "text/plain": [
       "   age           job  marital  education default  balance housing loan  \\\n",
       "0   58    management  married   tertiary      no     2143     yes   no   \n",
       "1   44    technician   single  secondary      no       29     yes   no   \n",
       "2   33  entrepreneur  married  secondary      no        2     yes  yes   \n",
       "3   47   blue-collar  married    unknown      no     1506     yes   no   \n",
       "4   33       unknown   single    unknown      no        1      no   no   \n",
       "\n",
       "   contact  day month  duration  campaign  pdays  previous poutcome   y  \n",
       "0  unknown    5   may       261         1     -1         0  unknown  no  \n",
       "1  unknown    5   may       151         1     -1         0  unknown  no  \n",
       "2  unknown    5   may        76         1     -1         0  unknown  no  \n",
       "3  unknown    5   may        92         1     -1         0  unknown  no  \n",
       "4  unknown    5   may       198         1     -1         0  unknown  no  "
      ]
     },
     "execution_count": 6,
     "metadata": {},
     "output_type": "execute_result"
    }
   ],
   "source": [
    "df.head()"
   ]
  },
  {
   "cell_type": "code",
   "execution_count": 7,
   "metadata": {},
   "outputs": [],
   "source": [
    "df['conversion'] = df['y'].apply(lambda x: 0 if x == 'no' else 1)"
   ]
  },
  {
   "cell_type": "markdown",
   "metadata": {},
   "source": [
    "### EDA"
   ]
  },
  {
   "cell_type": "code",
   "execution_count": 8,
   "metadata": {},
   "outputs": [],
   "source": [
    "conversion_rate_df = pd.DataFrame(\n",
    "    df.groupby('conversion').count()['y'] / df.shape[0] * 100.0\n",
    ")"
   ]
  },
  {
   "cell_type": "code",
   "execution_count": 9,
   "metadata": {},
   "outputs": [
    {
     "data": {
      "text/html": [
       "<div>\n",
       "<style scoped>\n",
       "    .dataframe tbody tr th:only-of-type {\n",
       "        vertical-align: middle;\n",
       "    }\n",
       "\n",
       "    .dataframe tbody tr th {\n",
       "        vertical-align: top;\n",
       "    }\n",
       "\n",
       "    .dataframe thead th {\n",
       "        text-align: right;\n",
       "    }\n",
       "</style>\n",
       "<table border=\"1\" class=\"dataframe\">\n",
       "  <thead>\n",
       "    <tr style=\"text-align: right;\">\n",
       "      <th></th>\n",
       "      <th>y</th>\n",
       "    </tr>\n",
       "    <tr>\n",
       "      <th>conversion</th>\n",
       "      <th></th>\n",
       "    </tr>\n",
       "  </thead>\n",
       "  <tbody>\n",
       "    <tr>\n",
       "      <th>0</th>\n",
       "      <td>88.30152</td>\n",
       "    </tr>\n",
       "    <tr>\n",
       "      <th>1</th>\n",
       "      <td>11.69848</td>\n",
       "    </tr>\n",
       "  </tbody>\n",
       "</table>\n",
       "</div>"
      ],
      "text/plain": [
       "                   y\n",
       "conversion          \n",
       "0           88.30152\n",
       "1           11.69848"
      ]
     },
     "execution_count": 9,
     "metadata": {},
     "output_type": "execute_result"
    }
   ],
   "source": [
    "conversion_rate_df"
   ]
  },
  {
   "cell_type": "code",
   "execution_count": 10,
   "metadata": {},
   "outputs": [],
   "source": [
    "conversion_rate_by_marital = df.groupby('marital')['conversion'].sum() / df.groupby('marital')['conversion'].count() * 100.0"
   ]
  },
  {
   "cell_type": "code",
   "execution_count": 11,
   "metadata": {},
   "outputs": [
    {
     "data": {
      "text/plain": [
       "marital\n",
       "divorced    11.945458\n",
       "married     10.123466\n",
       "single      14.949179\n",
       "Name: conversion, dtype: float64"
      ]
     },
     "execution_count": 11,
     "metadata": {},
     "output_type": "execute_result"
    }
   ],
   "source": [
    "conversion_rate_by_marital"
   ]
  },
  {
   "cell_type": "code",
   "execution_count": 14,
   "metadata": {},
   "outputs": [
    {
     "data": {
      "image/png": "[encoded data removed]",
      "text/plain": [
       "<Figure size 576x432 with 1 Axes>"
      ]
     },
     "metadata": {},
     "output_type": "display_data"
    }
   ],
   "source": [
    "ax = conversion_rate_by_marital.plot(\n",
    "    kind='bar',\n",
    "    figsize=(8, 6),\n",
    "    title='Conversion Rates by Marital Status'\n",
    ")\n",
    "ax.set_xlabel('Marital Status')\n",
    "ax.set_ylabel('conversion rate (%)')\n",
    "plt.show()"
   ]
  },
  {
   "cell_type": "code",
   "execution_count": 15,
   "metadata": {},
   "outputs": [
    {
     "data": {
      "text/plain": [
       "job\n",
       "admin.           12.202669\n",
       "blue-collar       7.274969\n",
       "entrepreneur      8.271688\n",
       "housemaid         8.790323\n",
       "management       13.755551\n",
       "retired          22.791519\n",
       "self-employed    11.842939\n",
       "services          8.883004\n",
       "student          28.678038\n",
       "technician       11.056996\n",
       "unemployed       15.502686\n",
       "unknown          11.805556\n",
       "Name: conversion, dtype: float64"
      ]
     },
     "execution_count": 15,
     "metadata": {},
     "output_type": "execute_result"
    }
   ],
   "source": [
    "conversion_rate_by_job = df.groupby('job')['conversion'].sum() / df.groupby('job')['conversion'].count() * 100.0\n",
    "conversion_rate_by_job"
   ]
  },
  {
   "cell_type": "code",
   "execution_count": 16,
   "metadata": {},
   "outputs": [
    {
     "data": {
      "image/png": "[encoded data removed]",
      "text/plain": [
       "<Figure size 576x432 with 1 Axes>"
      ]
     },
     "metadata": {},
     "output_type": "display_data"
    }
   ],
   "source": [
    "ax = conversion_rate_by_job.plot(\n",
    "    kind='barh',\n",
    "    figsize=(8, 6),\n",
    "    title='Conversion Rates by Job'\n",
    ")\n",
    "ax.set_xlabel('conversion rate (%)')\n",
    "ax.set_ylabel('Job')\n",
    "plt.show()"
   ]
  },
  {
   "cell_type": "code",
   "execution_count": 17,
   "metadata": {},
   "outputs": [],
   "source": [
    "conversions_by_contacts = df.groupby('campaign')['conversion'].sum() / df.groupby('campaign')['conversion'].count() * 100.0"
   ]
  },
  {
   "cell_type": "code",
   "execution_count": 18,
   "metadata": {},
   "outputs": [
    {
     "data": {
      "image/png": "[encoded data removed]",
      "text/plain": [
       "<Figure size 576x432 with 1 Axes>"
      ]
     },
     "metadata": {},
     "output_type": "display_data"
    }
   ],
   "source": [
    "ax = conversions_by_contacts[:10].plot(\n",
    "    figsize=(8, 6),\n",
    "    xticks=conversions_by_contacts.index[:10],\n",
    "    title='Conversion Rates by Number of Contacts'\n",
    ")\n",
    "\n",
    "ax.set_ylim([0, 15])\n",
    "ax.set_xlabel('number of contacts')\n",
    "ax.set_ylabel('conversion rate (%)')\n",
    "plt.show()"
   ]
  },
  {
   "cell_type": "code",
   "execution_count": 19,
   "metadata": {},
   "outputs": [],
   "source": [
    "conversions_by_age = df.groupby('age')['conversion'].sum() / df.groupby('age')['conversion'].count() * 100.0"
   ]
  },
  {
   "cell_type": "code",
   "execution_count": 20,
   "metadata": {},
   "outputs": [
    {
     "data": {
      "image/png": "[encoded data removed]",
      "text/plain": [
       "<Figure size 576x432 with 1 Axes>"
      ]
     },
     "metadata": {},
     "output_type": "display_data"
    }
   ],
   "source": [
    "ax = conversions_by_age.plot(\n",
    "    figsize=(8, 6),\n",
    "    title='Conversion Rates by Age'\n",
    ")\n",
    "ax.set_xlabel('age')\n",
    "ax.set_ylabel('conversion rate (%)')\n",
    "plt.show()"
   ]
  },
  {
   "cell_type": "code",
   "execution_count": 21,
   "metadata": {},
   "outputs": [],
   "source": [
    "df['age_group'] = df['age'].apply(\n",
    "    lambda x: '[18, 30)' if x < 30 else '[30, 40)' if x < 40 \\\n",
    "        else '[40, 50)' if x < 50 else '[50, 60)' if x < 60 \\\n",
    "        else '[60, 70)' if x < 70 else '70+'\n",
    ")"
   ]
  },
  {
   "cell_type": "code",
   "execution_count": 22,
   "metadata": {},
   "outputs": [],
   "source": [
    "conversions_by_age_group = df.groupby('age_group')['conversion'].sum() / df.groupby('age_group')['conversion'].count() * 100.0"
   ]
  },
  {
   "cell_type": "code",
   "execution_count": 23,
   "metadata": {},
   "outputs": [
    {
     "data": {
      "image/png": "[encoded data removed]",
      "text/plain": [
       "<Figure size 576x432 with 1 Axes>"
      ]
     },
     "metadata": {},
     "output_type": "display_data"
    }
   ],
   "source": [
    "ax = conversions_by_age_group.loc[\n",
    "    ['[18, 30)', '[30, 40)', '[40, 50)', '[50, 60)', '[60, 70)', '70+']\n",
    "].plot(\n",
    "    kind='bar',\n",
    "    figsize=(8, 6),\n",
    "    title='Conversion Rates by Age Groups'\n",
    ")\n",
    "ax.set_xlabel('age')\n",
    "ax.set_ylabel('conversion rate (%)')\n",
    "plt.show()"
   ]
  },
  {
   "cell_type": "code",
   "execution_count": 24,
   "metadata": {},
   "outputs": [],
   "source": [
    "default_by_conversion_df = pd.pivot_table(\n",
    "    df, \n",
    "    values='y', \n",
    "    index='default', \n",
    "    columns='conversion', \n",
    "    aggfunc=len\n",
    ")"
   ]
  },
  {
   "cell_type": "code",
   "execution_count": 25,
   "metadata": {},
   "outputs": [
    {
     "data": {
      "text/html": [
       "<div>\n",
       "<style scoped>\n",
       "    .dataframe tbody tr th:only-of-type {\n",
       "        vertical-align: middle;\n",
       "    }\n",
       "\n",
       "    .dataframe tbody tr th {\n",
       "        vertical-align: top;\n",
       "    }\n",
       "\n",
       "    .dataframe thead th {\n",
       "        text-align: right;\n",
       "    }\n",
       "</style>\n",
       "<table border=\"1\" class=\"dataframe\">\n",
       "  <thead>\n",
       "    <tr style=\"text-align: right;\">\n",
       "      <th>conversion</th>\n",
       "      <th>0</th>\n",
       "      <th>1</th>\n",
       "    </tr>\n",
       "    <tr>\n",
       "      <th>default</th>\n",
       "      <th></th>\n",
       "      <th></th>\n",
       "    </tr>\n",
       "  </thead>\n",
       "  <tbody>\n",
       "    <tr>\n",
       "      <th>no</th>\n",
       "      <td>39159</td>\n",
       "      <td>5237</td>\n",
       "    </tr>\n",
       "    <tr>\n",
       "      <th>yes</th>\n",
       "      <td>763</td>\n",
       "      <td>52</td>\n",
       "    </tr>\n",
       "  </tbody>\n",
       "</table>\n",
       "</div>"
      ],
      "text/plain": [
       "conversion      0     1\n",
       "default                \n",
       "no          39159  5237\n",
       "yes           763    52"
      ]
     },
     "execution_count": 25,
     "metadata": {},
     "output_type": "execute_result"
    }
   ],
   "source": [
    "default_by_conversion_df"
   ]
  },
  {
   "cell_type": "code",
   "execution_count": 26,
   "metadata": {},
   "outputs": [],
   "source": [
    "default_by_conversion_df.columns = ['non_conversions', 'conversions']"
   ]
  },
  {
   "cell_type": "code",
   "execution_count": 27,
   "metadata": {},
   "outputs": [
    {
     "data": {
      "image/png": "[encoded data removed]",
      "text/plain": [
       "<Figure size 1080x504 with 2 Axes>"
      ]
     },
     "metadata": {},
     "output_type": "display_data"
    }
   ],
   "source": [
    "default_by_conversion_df.plot(\n",
    "    kind='pie',\n",
    "    figsize=(15, 7),\n",
    "    startangle=90,\n",
    "    subplots=True,\n",
    "    autopct=lambda x: '%0.1f%%' % x\n",
    ")\n",
    "\n",
    "plt.show()"
   ]
  },
  {
   "cell_type": "code",
   "execution_count": 28,
   "metadata": {},
   "outputs": [
    {
     "data": {
      "image/png": "[encoded data removed]",
      "text/plain": [
       "<Figure size 720x504 with 1 Axes>"
      ]
     },
     "metadata": {},
     "output_type": "display_data"
    }
   ],
   "source": [
    "ax = df[['conversion', 'balance']].boxplot(\n",
    "    by='conversion',\n",
    "    showfliers=False,\n",
    "    figsize=(10, 7)\n",
    ")\n",
    "ax.set_xlabel('Conversion')\n",
    "ax.set_ylabel('Average Bank Balance')\n",
    "ax.set_title('Average Bank Balance Distributions by Conversion')\n",
    "plt.suptitle(\"\")\n",
    "plt.show()"
   ]
  },
  {
   "cell_type": "code",
   "execution_count": 29,
   "metadata": {},
   "outputs": [],
   "source": [
    "age_marital_df = df.groupby(['age_group', 'marital'])['conversion'].sum().unstack('marital').fillna(0)"
   ]
  },
  {
   "cell_type": "code",
   "execution_count": 30,
   "metadata": {},
   "outputs": [],
   "source": [
    "age_marital_df = age_marital_df.divide(df.groupby('age_group')['conversion'].count(), axis=0)"
   ]
  },
  {
   "cell_type": "code",
   "execution_count": 31,
   "metadata": {},
   "outputs": [
    {
     "data": {
      "text/html": [
       "<div>\n",
       "<style scoped>\n",
       "    .dataframe tbody tr th:only-of-type {\n",
       "        vertical-align: middle;\n",
       "    }\n",
       "\n",
       "    .dataframe tbody tr th {\n",
       "        vertical-align: top;\n",
       "    }\n",
       "\n",
       "    .dataframe thead th {\n",
       "        text-align: right;\n",
       "    }\n",
       "</style>\n",
       "<table border=\"1\" class=\"dataframe\">\n",
       "  <thead>\n",
       "    <tr style=\"text-align: right;\">\n",
       "      <th>marital</th>\n",
       "      <th>divorced</th>\n",
       "      <th>married</th>\n",
       "      <th>single</th>\n",
       "    </tr>\n",
       "    <tr>\n",
       "      <th>age_group</th>\n",
       "      <th></th>\n",
       "      <th></th>\n",
       "      <th></th>\n",
       "    </tr>\n",
       "  </thead>\n",
       "  <tbody>\n",
       "    <tr>\n",
       "      <th>70+</th>\n",
       "      <td>0.099278</td>\n",
       "      <td>0.319495</td>\n",
       "      <td>0.005415</td>\n",
       "    </tr>\n",
       "    <tr>\n",
       "      <th>[18, 30)</th>\n",
       "      <td>0.002086</td>\n",
       "      <td>0.023326</td>\n",
       "      <td>0.150578</td>\n",
       "    </tr>\n",
       "    <tr>\n",
       "      <th>[30, 40)</th>\n",
       "      <td>0.008735</td>\n",
       "      <td>0.050473</td>\n",
       "      <td>0.046548</td>\n",
       "    </tr>\n",
       "    <tr>\n",
       "      <th>[40, 50)</th>\n",
       "      <td>0.015015</td>\n",
       "      <td>0.058172</td>\n",
       "      <td>0.018018</td>\n",
       "    </tr>\n",
       "    <tr>\n",
       "      <th>[50, 60)</th>\n",
       "      <td>0.019025</td>\n",
       "      <td>0.068014</td>\n",
       "      <td>0.006302</td>\n",
       "    </tr>\n",
       "    <tr>\n",
       "      <th>[60, 70)</th>\n",
       "      <td>0.051220</td>\n",
       "      <td>0.237398</td>\n",
       "      <td>0.008130</td>\n",
       "    </tr>\n",
       "  </tbody>\n",
       "</table>\n",
       "</div>"
      ],
      "text/plain": [
       "marital    divorced   married    single\n",
       "age_group                              \n",
       "70+        0.099278  0.319495  0.005415\n",
       "[18, 30)   0.002086  0.023326  0.150578\n",
       "[30, 40)   0.008735  0.050473  0.046548\n",
       "[40, 50)   0.015015  0.058172  0.018018\n",
       "[50, 60)   0.019025  0.068014  0.006302\n",
       "[60, 70)   0.051220  0.237398  0.008130"
      ]
     },
     "execution_count": 31,
     "metadata": {},
     "output_type": "execute_result"
    }
   ],
   "source": [
    "age_marital_df"
   ]
  },
  {
   "cell_type": "code",
   "execution_count": 32,
   "metadata": {},
   "outputs": [
    {
     "data": {
      "image/png": "[encoded data removed]",
      "text/plain": [
       "<Figure size 576x432 with 1 Axes>"
      ]
     },
     "metadata": {},
     "output_type": "display_data"
    }
   ],
   "source": [
    "ax = age_marital_df.loc[\n",
    "    ['[18, 30)', '[30, 40)', '[40, 50)', '[50, 60)', '[60, 70)', '70+']\n",
    "].plot(\n",
    "    kind='bar', \n",
    "    figsize=(8, 6)\n",
    ")\n",
    "ax.set_title('Conversion rates by Age & Marital Status')\n",
    "ax.set_xlabel('age group')\n",
    "ax.set_ylabel('conversion rate (%)')\n",
    "plt.show()"
   ]
  },
  {
   "cell_type": "code",
   "execution_count": 33,
   "metadata": {},
   "outputs": [
    {
     "data": {
      "image/png": "[encoded data removed]",
      "text/plain": [
       "<Figure size 576x432 with 1 Axes>"
      ]
     },
     "metadata": {},
     "output_type": "display_data"
    }
   ],
   "source": [
    "ax = age_marital_df.loc[\n",
    "    ['[18, 30)', '[30, 40)', '[40, 50)', '[50, 60)', '[60, 70)', '70+']\n",
    "].plot(\n",
    "    kind='bar', \n",
    "    stacked=True,\n",
    "    figsize=(8, 6)\n",
    ")\n",
    "ax.set_title('Conversion rates by Age & Marital Status')\n",
    "ax.set_xlabel('age group')\n",
    "ax.set_ylabel('conversion rate (%)')\n",
    "plt.show()"
   ]
  },
  {
   "cell_type": "markdown",
   "metadata": {},
   "source": [
    "## Encoding Categorical Variables"
   ]
  },
  {
   "cell_type": "code",
   "execution_count": 34,
   "metadata": {},
   "outputs": [],
   "source": [
    "categorical_vars = [\n",
    "    'job',\n",
    "    'marital',\n",
    "    'education',\n",
    "    'default',\n",
    "    'housing',\n",
    "    'loan',\n",
    "    'contact',\n",
    "    'month'\n",
    "]"
   ]
  },
  {
   "cell_type": "code",
   "execution_count": 35,
   "metadata": {},
   "outputs": [
    {
     "data": {
      "text/plain": [
       "job          12\n",
       "marital       3\n",
       "education     4\n",
       "default       2\n",
       "housing       2\n",
       "loan          2\n",
       "contact       3\n",
       "month        12\n",
       "dtype: int64"
      ]
     },
     "execution_count": 35,
     "metadata": {},
     "output_type": "execute_result"
    }
   ],
   "source": [
    "df[categorical_vars].nunique()"
   ]
  },
  {
   "cell_type": "code",
   "execution_count": 36,
   "metadata": {},
   "outputs": [],
   "source": [
    "months = ['jan', 'feb', 'mar', 'apr', 'may', 'jun', 'jul', 'aug', 'sep', 'oct', 'nov', 'dec']\n",
    "df['month'] = df['month'].apply(lambda x: months.index(x) + 1)"
   ]
  },
  {
   "cell_type": "code",
   "execution_count": 37,
   "metadata": {},
   "outputs": [
    {
     "data": {
      "text/plain": [
       "array([ 5,  6,  7,  8, 10, 11, 12,  1,  2,  3,  4,  9])"
      ]
     },
     "execution_count": 37,
     "metadata": {},
     "output_type": "execute_result"
    }
   ],
   "source": [
    "df['month'].unique()"
   ]
  },
  {
   "cell_type": "code",
   "execution_count": 38,
   "metadata": {},
   "outputs": [
    {
     "data": {
      "text/plain": [
       "month\n",
       "1     0.101212\n",
       "2     0.166478\n",
       "3     0.519916\n",
       "4     0.196794\n",
       "5     0.067195\n",
       "6     0.102228\n",
       "7     0.090935\n",
       "8     0.110133\n",
       "9     0.464594\n",
       "10    0.437669\n",
       "11    0.101511\n",
       "12    0.467290\n",
       "Name: conversion, dtype: float64"
      ]
     },
     "execution_count": 38,
     "metadata": {},
     "output_type": "execute_result"
    }
   ],
   "source": [
    "df.groupby('month').mean()['conversion']"
   ]
  },
  {
   "cell_type": "code",
   "execution_count": 39,
   "metadata": {},
   "outputs": [
    {
     "data": {
      "text/plain": [
       "array(['management', 'technician', 'entrepreneur', 'blue-collar',\n",
       "       'unknown', 'retired', 'admin.', 'services', 'self-employed',\n",
       "       'unemployed', 'housemaid', 'student'], dtype=object)"
      ]
     },
     "execution_count": 39,
     "metadata": {},
     "output_type": "execute_result"
    }
   ],
   "source": [
    "df['job'].unique()"
   ]
  },
  {
   "cell_type": "code",
   "execution_count": 40,
   "metadata": {},
   "outputs": [],
   "source": [
    "jobs_encoded_df = pd.get_dummies(df['job'])\n",
    "jobs_encoded_df.columns = ['job_%s' % x for x in jobs_encoded_df.columns]"
   ]
  },
  {
   "cell_type": "code",
   "execution_count": 41,
   "metadata": {},
   "outputs": [
    {
     "data": {
      "text/html": [
       "<div>\n",
       "<style scoped>\n",
       "    .dataframe tbody tr th:only-of-type {\n",
       "        vertical-align: middle;\n",
       "    }\n",
       "\n",
       "    .dataframe tbody tr th {\n",
       "        vertical-align: top;\n",
       "    }\n",
       "\n",
       "    .dataframe thead th {\n",
       "        text-align: right;\n",
       "    }\n",
       "</style>\n",
       "<table border=\"1\" class=\"dataframe\">\n",
       "  <thead>\n",
       "    <tr style=\"text-align: right;\">\n",
       "      <th></th>\n",
       "      <th>job_admin.</th>\n",
       "      <th>job_blue-collar</th>\n",
       "      <th>job_entrepreneur</th>\n",
       "      <th>job_housemaid</th>\n",
       "      <th>job_management</th>\n",
       "      <th>job_retired</th>\n",
       "      <th>job_self-employed</th>\n",
       "      <th>job_services</th>\n",
       "      <th>job_student</th>\n",
       "      <th>job_technician</th>\n",
       "      <th>job_unemployed</th>\n",
       "      <th>job_unknown</th>\n",
       "    </tr>\n",
       "  </thead>\n",
       "  <tbody>\n",
       "    <tr>\n",
       "      <th>0</th>\n",
       "      <td>0</td>\n",
       "      <td>0</td>\n",
       "      <td>0</td>\n",
       "      <td>0</td>\n",
       "      <td>1</td>\n",
       "      <td>0</td>\n",
       "      <td>0</td>\n",
       "      <td>0</td>\n",
       "      <td>0</td>\n",
       "      <td>0</td>\n",
       "      <td>0</td>\n",
       "      <td>0</td>\n",
       "    </tr>\n",
       "    <tr>\n",
       "      <th>1</th>\n",
       "      <td>0</td>\n",
       "      <td>0</td>\n",
       "      <td>0</td>\n",
       "      <td>0</td>\n",
       "      <td>0</td>\n",
       "      <td>0</td>\n",
       "      <td>0</td>\n",
       "      <td>0</td>\n",
       "      <td>0</td>\n",
       "      <td>1</td>\n",
       "      <td>0</td>\n",
       "      <td>0</td>\n",
       "    </tr>\n",
       "    <tr>\n",
       "      <th>2</th>\n",
       "      <td>0</td>\n",
       "      <td>0</td>\n",
       "      <td>1</td>\n",
       "      <td>0</td>\n",
       "      <td>0</td>\n",
       "      <td>0</td>\n",
       "      <td>0</td>\n",
       "      <td>0</td>\n",
       "      <td>0</td>\n",
       "      <td>0</td>\n",
       "      <td>0</td>\n",
       "      <td>0</td>\n",
       "    </tr>\n",
       "    <tr>\n",
       "      <th>3</th>\n",
       "      <td>0</td>\n",
       "      <td>1</td>\n",
       "      <td>0</td>\n",
       "      <td>0</td>\n",
       "      <td>0</td>\n",
       "      <td>0</td>\n",
       "      <td>0</td>\n",
       "      <td>0</td>\n",
       "      <td>0</td>\n",
       "      <td>0</td>\n",
       "      <td>0</td>\n",
       "      <td>0</td>\n",
       "    </tr>\n",
       "    <tr>\n",
       "      <th>4</th>\n",
       "      <td>0</td>\n",
       "      <td>0</td>\n",
       "      <td>0</td>\n",
       "      <td>0</td>\n",
       "      <td>0</td>\n",
       "      <td>0</td>\n",
       "      <td>0</td>\n",
       "      <td>0</td>\n",
       "      <td>0</td>\n",
       "      <td>0</td>\n",
       "      <td>0</td>\n",
       "      <td>1</td>\n",
       "    </tr>\n",
       "  </tbody>\n",
       "</table>\n",
       "</div>"
      ],
      "text/plain": [
       "   job_admin.  job_blue-collar  job_entrepreneur  job_housemaid  \\\n",
       "0           0                0                 0              0   \n",
       "1           0                0                 0              0   \n",
       "2           0                0                 1              0   \n",
       "3           0                1                 0              0   \n",
       "4           0                0                 0              0   \n",
       "\n",
       "   job_management  job_retired  job_self-employed  job_services  job_student  \\\n",
       "0               1            0                  0             0            0   \n",
       "1               0            0                  0             0            0   \n",
       "2               0            0                  0             0            0   \n",
       "3               0            0                  0             0            0   \n",
       "4               0            0                  0             0            0   \n",
       "\n",
       "   job_technician  job_unemployed  job_unknown  \n",
       "0               0               0            0  \n",
       "1               1               0            0  \n",
       "2               0               0            0  \n",
       "3               0               0            0  \n",
       "4               0               0            1  "
      ]
     },
     "execution_count": 41,
     "metadata": {},
     "output_type": "execute_result"
    }
   ],
   "source": [
    "jobs_encoded_df.head()"
   ]
  },
  {
   "cell_type": "code",
   "execution_count": 42,
   "metadata": {},
   "outputs": [],
   "source": [
    "df = pd.concat([df, jobs_encoded_df], axis=1)"
   ]
  },
  {
   "cell_type": "code",
   "execution_count": 43,
   "metadata": {},
   "outputs": [],
   "source": [
    "marital_encoded_df = pd.get_dummies(df['marital'])\n",
    "marital_encoded_df.columns = ['marital_%s' % x for x in marital_encoded_df.columns]\n",
    "df = pd.concat([df, marital_encoded_df], axis=1)"
   ]
  },
  {
   "cell_type": "code",
   "execution_count": 44,
   "metadata": {},
   "outputs": [],
   "source": [
    "df['housing'] = df['housing'].apply(lambda x: 1 if x == 'yes' else 0)"
   ]
  },
  {
   "cell_type": "code",
   "execution_count": 45,
   "metadata": {},
   "outputs": [],
   "source": [
    "df['loan'] = df['loan'].apply(lambda x: 1 if x == 'yes' else 0)"
   ]
  },
  {
   "cell_type": "markdown",
   "metadata": {},
   "source": [
    "## Fitting Decision Trees"
   ]
  },
  {
   "cell_type": "code",
   "execution_count": 46,
   "metadata": {},
   "outputs": [],
   "source": [
    "features = [\n",
    "    'age',\n",
    "    'balance',\n",
    "    'campaign',\n",
    "    'previous',\n",
    "    'housing',\n",
    "] + list(jobs_encoded_df.columns) + list(marital_encoded_df.columns)\n",
    "response_var = 'conversion'"
   ]
  },
  {
   "cell_type": "code",
   "execution_count": 47,
   "metadata": {},
   "outputs": [],
   "source": [
    "dt_model = tree.DecisionTreeClassifier(max_depth=4)"
   ]
  },
  {
   "cell_type": "code",
   "execution_count": 48,
   "metadata": {},
   "outputs": [
    {
     "data": {
      "text/plain": [
       "DecisionTreeClassifier(ccp_alpha=0.0, class_weight=None, criterion='gini',\n",
       "                       max_depth=4, max_features=None, max_leaf_nodes=None,\n",
       "                       min_impurity_decrease=0.0, min_impurity_split=None,\n",
       "                       min_samples_leaf=1, min_samples_split=2,\n",
       "                       min_weight_fraction_leaf=0.0, presort='deprecated',\n",
       "                       random_state=None, splitter='best')"
      ]
     },
     "execution_count": 48,
     "metadata": {},
     "output_type": "execute_result"
    }
   ],
   "source": [
    "dt_model.fit(df[features], df[response_var])"
   ]
  },
  {
   "cell_type": "markdown",
   "metadata": {},
   "source": [
    "## Interpreting Decision Tree Model"
   ]
  },
  {
   "cell_type": "code",
   "execution_count": 49,
   "metadata": {},
   "outputs": [],
   "source": [
    "dot_data = tree.export_graphviz(\n",
    "    dt_model, \n",
    "    out_file=None, \n",
    "    feature_names=features,  \n",
    "    class_names=['0', '1'],  \n",
    "    filled=True, \n",
    "    rounded=True,  \n",
    "    special_characters=True\n",
    ") "
   ]
  },
  {
   "cell_type": "code",
   "execution_count": 50,
   "metadata": {},
   "outputs": [],
   "source": [
    "graph = graphviz.Source(dot_data)"
   ]
  },
  {
   "cell_type": "code",
   "execution_count": 51,
   "metadata": {},
   "outputs": [
    {
     "data": {
      "text/html": [
       "<style>text {font-size: 10px;}</style>"
      ],
      "text/plain": [
       "<IPython.core.display.HTML object>"
      ]
     },
     "metadata": {},
     "output_type": "display_data"
    },
    {
     "data": {
      "image/svg+xml": [
       "<?xml version=\"1.0\" encoding=\"UTF-8\" standalone=\"no\"?>\n",
       "<!DOCTYPE svg PUBLIC \"-//W3C//DTD SVG 1.1//EN\"\n",
       " \"http://www.w3.org/Graphics/SVG/1.1/DTD/svg11.dtd\">\n",
       "<!-- Generated by graphviz version 2.40.1 (20161225.0304)\n",
       " -->\n",
       "<!-- Title: Tree Pages: 1 -->\n",
       "<svg width=\"2255pt\" height=\"552pt\"\n",
       " viewBox=\"0.00 0.00 2254.50 552.00\" xmlns=\"http://www.w3.org/2000/svg\" xmlns:xlink=\"http://www.w3.org/1999/xlink\">\n",
       "<g id=\"graph0\" class=\"graph\" transform=\"scale(1 1) rotate(0) translate(4 548)\">\n",
       "<title>Tree</title>\n",
       "<polygon fill=\"#ffffff\" stroke=\"transparent\" points=\"-4,4 -4,-548 2250.5,-548 2250.5,4 -4,4\"/>\n",
       "<!-- 0 -->\n",
       "<g id=\"node1\" class=\"node\">\n",
       "<title>0</title>\n",
       "<path fill=\"#e89253\" stroke=\"#000000\" d=\"M1217,-544C1217,-544 1089,-544 1089,-544 1083,-544 1077,-538 1077,-532 1077,-532 1077,-473 1077,-473 1077,-467 1083,-461 1089,-461 1089,-461 1217,-461 1217,-461 1223,-461 1229,-467 1229,-473 1229,-473 1229,-532 1229,-532 1229,-538 1223,-544 1217,-544\"/>\n",
       "<text text-anchor=\"start\" x=\"1109\" y=\"-528.8\" font-family=\"Helvetica,sans-Serif\" font-size=\"14.00\" fill=\"#000000\">previous ≤ 0.5</text>\n",
       "<text text-anchor=\"start\" x=\"1116.5\" y=\"-513.8\" font-family=\"Helvetica,sans-Serif\" font-size=\"14.00\" fill=\"#000000\">gini = 0.207</text>\n",
       "<text text-anchor=\"start\" x=\"1099\" y=\"-498.8\" font-family=\"Helvetica,sans-Serif\" font-size=\"14.00\" fill=\"#000000\">samples = 45211</text>\n",
       "<text text-anchor=\"start\" x=\"1085\" y=\"-483.8\" font-family=\"Helvetica,sans-Serif\" font-size=\"14.00\" fill=\"#000000\">value = [39922, 5289]</text>\n",
       "<text text-anchor=\"start\" x=\"1125\" y=\"-468.8\" font-family=\"Helvetica,sans-Serif\" font-size=\"14.00\" fill=\"#000000\">class = 0</text>\n",
       "</g>\n",
       "<!-- 1 -->\n",
       "<g id=\"node2\" class=\"node\">\n",
       "<title>1</title>\n",
       "<path fill=\"#e88e4d\" stroke=\"#000000\" d=\"M961,-425C961,-425 833,-425 833,-425 827,-425 821,-419 821,-413 821,-413 821,-354 821,-354 821,-348 827,-342 833,-342 833,-342 961,-342 961,-342 967,-342 973,-348 973,-354 973,-354 973,-413 973,-413 973,-419 967,-425 961,-425\"/>\n",
       "<text text-anchor=\"start\" x=\"863.5\" y=\"-409.8\" font-family=\"Helvetica,sans-Serif\" font-size=\"14.00\" fill=\"#000000\">age ≤ 60.5</text>\n",
       "<text text-anchor=\"start\" x=\"860.5\" y=\"-394.8\" font-family=\"Helvetica,sans-Serif\" font-size=\"14.00\" fill=\"#000000\">gini = 0.166</text>\n",
       "<text text-anchor=\"start\" x=\"843\" y=\"-379.8\" font-family=\"Helvetica,sans-Serif\" font-size=\"14.00\" fill=\"#000000\">samples = 36954</text>\n",
       "<text text-anchor=\"start\" x=\"829\" y=\"-364.8\" font-family=\"Helvetica,sans-Serif\" font-size=\"14.00\" fill=\"#000000\">value = [33570, 3384]</text>\n",
       "<text text-anchor=\"start\" x=\"869\" y=\"-349.8\" font-family=\"Helvetica,sans-Serif\" font-size=\"14.00\" fill=\"#000000\">class = 0</text>\n",
       "</g>\n",
       "<!-- 0&#45;&gt;1 -->\n",
       "<g id=\"edge1\" class=\"edge\">\n",
       "<title>0&#45;&gt;1</title>\n",
       "<path fill=\"none\" stroke=\"#000000\" d=\"M1076.8847,-467.1183C1047.2324,-453.3346 1013.1083,-437.4722 982.6053,-423.2931\"/>\n",
       "<polygon fill=\"#000000\" stroke=\"#000000\" points=\"983.8076,-419.9924 973.2641,-418.9509 980.8569,-426.3401 983.8076,-419.9924\"/>\n",
       "<text text-anchor=\"middle\" x=\"981.8429\" y=\"-438.7329\" font-family=\"Helvetica,sans-Serif\" font-size=\"14.00\" fill=\"#000000\">True</text>\n",
       "</g>\n",
       "<!-- 16 -->\n",
       "<g id=\"node17\" class=\"node\">\n",
       "<title>16</title>\n",
       "<path fill=\"#eda774\" stroke=\"#000000\" d=\"M1475,-425C1475,-425 1355,-425 1355,-425 1349,-425 1343,-419 1343,-413 1343,-413 1343,-354 1343,-354 1343,-348 1349,-342 1355,-342 1355,-342 1475,-342 1475,-342 1481,-342 1487,-348 1487,-354 1487,-354 1487,-413 1487,-413 1487,-419 1481,-425 1475,-425\"/>\n",
       "<text text-anchor=\"start\" x=\"1373\" y=\"-409.8\" font-family=\"Helvetica,sans-Serif\" font-size=\"14.00\" fill=\"#000000\">housing ≤ 0.5</text>\n",
       "<text text-anchor=\"start\" x=\"1378.5\" y=\"-394.8\" font-family=\"Helvetica,sans-Serif\" font-size=\"14.00\" fill=\"#000000\">gini = 0.355</text>\n",
       "<text text-anchor=\"start\" x=\"1365\" y=\"-379.8\" font-family=\"Helvetica,sans-Serif\" font-size=\"14.00\" fill=\"#000000\">samples = 8257</text>\n",
       "<text text-anchor=\"start\" x=\"1351\" y=\"-364.8\" font-family=\"Helvetica,sans-Serif\" font-size=\"14.00\" fill=\"#000000\">value = [6352, 1905]</text>\n",
       "<text text-anchor=\"start\" x=\"1387\" y=\"-349.8\" font-family=\"Helvetica,sans-Serif\" font-size=\"14.00\" fill=\"#000000\">class = 0</text>\n",
       "</g>\n",
       "<!-- 0&#45;&gt;16 -->\n",
       "<g id=\"edge16\" class=\"edge\">\n",
       "<title>0&#45;&gt;16</title>\n",
       "<path fill=\"none\" stroke=\"#000000\" d=\"M1229.1332,-467.9204C1261.8634,-453.0544 1300.1711,-435.6551 1333.4769,-420.5277\"/>\n",
       "<polygon fill=\"#000000\" stroke=\"#000000\" points=\"1335.0719,-423.6474 1342.7294,-416.3252 1332.1771,-417.274 1335.0719,-423.6474\"/>\n",
       "<text text-anchor=\"middle\" x=\"1333.9446\" y=\"-436.0309\" font-family=\"Helvetica,sans-Serif\" font-size=\"14.00\" fill=\"#000000\">False</text>\n",
       "</g>\n",
       "<!-- 2 -->\n",
       "<g id=\"node3\" class=\"node\">\n",
       "<title>2</title>\n",
       "<path fill=\"#e78d4c\" stroke=\"#000000\" d=\"M539,-306C539,-306 411,-306 411,-306 405,-306 399,-300 399,-294 399,-294 399,-235 399,-235 399,-229 405,-223 411,-223 411,-223 539,-223 539,-223 545,-223 551,-229 551,-235 551,-235 551,-294 551,-294 551,-300 545,-306 539,-306\"/>\n",
       "<text text-anchor=\"start\" x=\"433\" y=\"-290.8\" font-family=\"Helvetica,sans-Serif\" font-size=\"14.00\" fill=\"#000000\">housing ≤ 0.5</text>\n",
       "<text text-anchor=\"start\" x=\"438.5\" y=\"-275.8\" font-family=\"Helvetica,sans-Serif\" font-size=\"14.00\" fill=\"#000000\">gini = 0.157</text>\n",
       "<text text-anchor=\"start\" x=\"421\" y=\"-260.8\" font-family=\"Helvetica,sans-Serif\" font-size=\"14.00\" fill=\"#000000\">samples = 36202</text>\n",
       "<text text-anchor=\"start\" x=\"407\" y=\"-245.8\" font-family=\"Helvetica,sans-Serif\" font-size=\"14.00\" fill=\"#000000\">value = [33102, 3100]</text>\n",
       "<text text-anchor=\"start\" x=\"447\" y=\"-230.8\" font-family=\"Helvetica,sans-Serif\" font-size=\"14.00\" fill=\"#000000\">class = 0</text>\n",
       "</g>\n",
       "<!-- 1&#45;&gt;2 -->\n",
       "<g id=\"edge2\" class=\"edge\">\n",
       "<title>1&#45;&gt;2</title>\n",
       "<path fill=\"none\" stroke=\"#000000\" d=\"M820.579,-361.95C747.4984,-341.342 637.4511,-310.3097 561.2595,-288.8244\"/>\n",
       "<polygon fill=\"#000000\" stroke=\"#000000\" points=\"561.7827,-285.3355 551.2081,-285.99 559.8828,-292.0727 561.7827,-285.3355\"/>\n",
       "</g>\n",
       "<!-- 9 -->\n",
       "<g id=\"node10\" class=\"node\">\n",
       "<title>9</title>\n",
       "<path fill=\"#f5cdb1\" stroke=\"#000000\" d=\"M962,-306C962,-306 832,-306 832,-306 826,-306 820,-300 820,-294 820,-294 820,-235 820,-235 820,-229 826,-223 832,-223 832,-223 962,-223 962,-223 968,-223 974,-229 974,-235 974,-235 974,-294 974,-294 974,-300 968,-306 962,-306\"/>\n",
       "<text text-anchor=\"start\" x=\"828\" y=\"-290.8\" font-family=\"Helvetica,sans-Serif\" font-size=\"14.00\" fill=\"#000000\">marital_divorced ≤ 0.5</text>\n",
       "<text text-anchor=\"start\" x=\"864.5\" y=\"-275.8\" font-family=\"Helvetica,sans-Serif\" font-size=\"14.00\" fill=\"#000000\">gini = 0.47</text>\n",
       "<text text-anchor=\"start\" x=\"851\" y=\"-260.8\" font-family=\"Helvetica,sans-Serif\" font-size=\"14.00\" fill=\"#000000\">samples = 752</text>\n",
       "<text text-anchor=\"start\" x=\"841\" y=\"-245.8\" font-family=\"Helvetica,sans-Serif\" font-size=\"14.00\" fill=\"#000000\">value = [468, 284]</text>\n",
       "<text text-anchor=\"start\" x=\"869\" y=\"-230.8\" font-family=\"Helvetica,sans-Serif\" font-size=\"14.00\" fill=\"#000000\">class = 0</text>\n",
       "</g>\n",
       "<!-- 1&#45;&gt;9 -->\n",
       "<g id=\"edge9\" class=\"edge\">\n",
       "<title>1&#45;&gt;9</title>\n",
       "<path fill=\"none\" stroke=\"#000000\" d=\"M897,-341.8796C897,-333.6838 897,-324.9891 897,-316.5013\"/>\n",
       "<polygon fill=\"#000000\" stroke=\"#000000\" points=\"900.5001,-316.298 897,-306.2981 893.5001,-316.2981 900.5001,-316.298\"/>\n",
       "</g>\n",
       "<!-- 3 -->\n",
       "<g id=\"node4\" class=\"node\">\n",
       "<title>3</title>\n",
       "<path fill=\"#e89152\" stroke=\"#000000\" d=\"M294,-187C294,-187 166,-187 166,-187 160,-187 154,-181 154,-175 154,-175 154,-116 154,-116 154,-110 160,-104 166,-104 166,-104 294,-104 294,-104 300,-104 306,-110 306,-116 306,-116 306,-175 306,-175 306,-181 300,-187 294,-187\"/>\n",
       "<text text-anchor=\"start\" x=\"196.5\" y=\"-171.8\" font-family=\"Helvetica,sans-Serif\" font-size=\"14.00\" fill=\"#000000\">age ≤ 29.5</text>\n",
       "<text text-anchor=\"start\" x=\"201\" y=\"-156.8\" font-family=\"Helvetica,sans-Serif\" font-size=\"14.00\" fill=\"#000000\">gini = 0.2</text>\n",
       "<text text-anchor=\"start\" x=\"176\" y=\"-141.8\" font-family=\"Helvetica,sans-Serif\" font-size=\"14.00\" fill=\"#000000\">samples = 16263</text>\n",
       "<text text-anchor=\"start\" x=\"162\" y=\"-126.8\" font-family=\"Helvetica,sans-Serif\" font-size=\"14.00\" fill=\"#000000\">value = [14427, 1836]</text>\n",
       "<text text-anchor=\"start\" x=\"202\" y=\"-111.8\" font-family=\"Helvetica,sans-Serif\" font-size=\"14.00\" fill=\"#000000\">class = 0</text>\n",
       "</g>\n",
       "<!-- 2&#45;&gt;3 -->\n",
       "<g id=\"edge3\" class=\"edge\">\n",
       "<title>2&#45;&gt;3</title>\n",
       "<path fill=\"none\" stroke=\"#000000\" d=\"M398.8235,-227.5C372.3208,-214.6273 342.4258,-200.1068 315.2373,-186.901\"/>\n",
       "<polygon fill=\"#000000\" stroke=\"#000000\" points=\"316.6537,-183.698 306.1294,-182.4772 313.5953,-189.9945 316.6537,-183.698\"/>\n",
       "</g>\n",
       "<!-- 6 -->\n",
       "<g id=\"node7\" class=\"node\">\n",
       "<title>6</title>\n",
       "<path fill=\"#e78a46\" stroke=\"#000000\" d=\"M539,-187C539,-187 411,-187 411,-187 405,-187 399,-181 399,-175 399,-175 399,-116 399,-116 399,-110 405,-104 411,-104 411,-104 539,-104 539,-104 545,-104 551,-110 551,-116 551,-116 551,-175 551,-175 551,-181 545,-187 539,-187\"/>\n",
       "<text text-anchor=\"start\" x=\"408.5\" y=\"-171.8\" font-family=\"Helvetica,sans-Serif\" font-size=\"14.00\" fill=\"#000000\">marital_married ≤ 0.5</text>\n",
       "<text text-anchor=\"start\" x=\"438.5\" y=\"-156.8\" font-family=\"Helvetica,sans-Serif\" font-size=\"14.00\" fill=\"#000000\">gini = 0.119</text>\n",
       "<text text-anchor=\"start\" x=\"421\" y=\"-141.8\" font-family=\"Helvetica,sans-Serif\" font-size=\"14.00\" fill=\"#000000\">samples = 19939</text>\n",
       "<text text-anchor=\"start\" x=\"407\" y=\"-126.8\" font-family=\"Helvetica,sans-Serif\" font-size=\"14.00\" fill=\"#000000\">value = [18675, 1264]</text>\n",
       "<text text-anchor=\"start\" x=\"447\" y=\"-111.8\" font-family=\"Helvetica,sans-Serif\" font-size=\"14.00\" fill=\"#000000\">class = 0</text>\n",
       "</g>\n",
       "<!-- 2&#45;&gt;6 -->\n",
       "<g id=\"edge6\" class=\"edge\">\n",
       "<title>2&#45;&gt;6</title>\n",
       "<path fill=\"none\" stroke=\"#000000\" d=\"M475,-222.8796C475,-214.6838 475,-205.9891 475,-197.5013\"/>\n",
       "<polygon fill=\"#000000\" stroke=\"#000000\" points=\"478.5001,-197.298 475,-187.2981 471.5001,-197.2981 478.5001,-197.298\"/>\n",
       "</g>\n",
       "<!-- 4 -->\n",
       "<g id=\"node5\" class=\"node\">\n",
       "<title>4</title>\n",
       "<path fill=\"#eda775\" stroke=\"#000000\" d=\"M124,-68C124,-68 12,-68 12,-68 6,-68 0,-62 0,-56 0,-56 0,-12 0,-12 0,-6 6,0 12,0 12,0 124,0 124,0 130,0 136,-6 136,-12 136,-12 136,-56 136,-56 136,-62 130,-68 124,-68\"/>\n",
       "<text text-anchor=\"start\" x=\"31.5\" y=\"-52.8\" font-family=\"Helvetica,sans-Serif\" font-size=\"14.00\" fill=\"#000000\">gini = 0.357</text>\n",
       "<text text-anchor=\"start\" x=\"18\" y=\"-37.8\" font-family=\"Helvetica,sans-Serif\" font-size=\"14.00\" fill=\"#000000\">samples = 1751</text>\n",
       "<text text-anchor=\"start\" x=\"8\" y=\"-22.8\" font-family=\"Helvetica,sans-Serif\" font-size=\"14.00\" fill=\"#000000\">value = [1343, 408]</text>\n",
       "<text text-anchor=\"start\" x=\"40\" y=\"-7.8\" font-family=\"Helvetica,sans-Serif\" font-size=\"14.00\" fill=\"#000000\">class = 0</text>\n",
       "</g>\n",
       "<!-- 3&#45;&gt;4 -->\n",
       "<g id=\"edge4\" class=\"edge\">\n",
       "<title>3&#45;&gt;4</title>\n",
       "<path fill=\"none\" stroke=\"#000000\" d=\"M169.6772,-103.9815C155.314,-94.0957 140.0212,-83.5701 125.7753,-73.7651\"/>\n",
       "<polygon fill=\"#000000\" stroke=\"#000000\" points=\"127.7454,-70.8722 117.5235,-68.0856 123.7766,-76.6384 127.7454,-70.8722\"/>\n",
       "</g>\n",
       "<!-- 5 -->\n",
       "<g id=\"node6\" class=\"node\">\n",
       "<title>5</title>\n",
       "<path fill=\"#e88f4f\" stroke=\"#000000\" d=\"M294,-68C294,-68 166,-68 166,-68 160,-68 154,-62 154,-56 154,-56 154,-12 154,-12 154,-6 160,0 166,0 166,0 294,0 294,0 300,0 306,-6 306,-12 306,-12 306,-56 306,-56 306,-62 300,-68 294,-68\"/>\n",
       "<text text-anchor=\"start\" x=\"193.5\" y=\"-52.8\" font-family=\"Helvetica,sans-Serif\" font-size=\"14.00\" fill=\"#000000\">gini = 0.177</text>\n",
       "<text text-anchor=\"start\" x=\"176\" y=\"-37.8\" font-family=\"Helvetica,sans-Serif\" font-size=\"14.00\" fill=\"#000000\">samples = 14512</text>\n",
       "<text text-anchor=\"start\" x=\"162\" y=\"-22.8\" font-family=\"Helvetica,sans-Serif\" font-size=\"14.00\" fill=\"#000000\">value = [13084, 1428]</text>\n",
       "<text text-anchor=\"start\" x=\"202\" y=\"-7.8\" font-family=\"Helvetica,sans-Serif\" font-size=\"14.00\" fill=\"#000000\">class = 0</text>\n",
       "</g>\n",
       "<!-- 3&#45;&gt;5 -->\n",
       "<g id=\"edge5\" class=\"edge\">\n",
       "<title>3&#45;&gt;5</title>\n",
       "<path fill=\"none\" stroke=\"#000000\" d=\"M230,-103.9815C230,-95.618 230,-86.7965 230,-78.3409\"/>\n",
       "<polygon fill=\"#000000\" stroke=\"#000000\" points=\"233.5001,-78.2636 230,-68.2637 226.5001,-78.2637 233.5001,-78.2636\"/>\n",
       "</g>\n",
       "<!-- 7 -->\n",
       "<g id=\"node8\" class=\"node\">\n",
       "<title>7</title>\n",
       "<path fill=\"#e78c4a\" stroke=\"#000000\" d=\"M448,-68C448,-68 336,-68 336,-68 330,-68 324,-62 324,-56 324,-56 324,-12 324,-12 324,-6 330,0 336,0 336,0 448,0 448,0 454,0 460,-6 460,-12 460,-12 460,-56 460,-56 460,-62 454,-68 448,-68\"/>\n",
       "<text text-anchor=\"start\" x=\"355.5\" y=\"-52.8\" font-family=\"Helvetica,sans-Serif\" font-size=\"14.00\" fill=\"#000000\">gini = 0.149</text>\n",
       "<text text-anchor=\"start\" x=\"342\" y=\"-37.8\" font-family=\"Helvetica,sans-Serif\" font-size=\"14.00\" fill=\"#000000\">samples = 7665</text>\n",
       "<text text-anchor=\"start\" x=\"332\" y=\"-22.8\" font-family=\"Helvetica,sans-Serif\" font-size=\"14.00\" fill=\"#000000\">value = [7043, 622]</text>\n",
       "<text text-anchor=\"start\" x=\"364\" y=\"-7.8\" font-family=\"Helvetica,sans-Serif\" font-size=\"14.00\" fill=\"#000000\">class = 0</text>\n",
       "</g>\n",
       "<!-- 6&#45;&gt;7 -->\n",
       "<g id=\"edge7\" class=\"edge\">\n",
       "<title>6&#45;&gt;7</title>\n",
       "<path fill=\"none\" stroke=\"#000000\" d=\"M444.0939,-103.9815C437.3892,-94.9747 430.2892,-85.4367 423.5597,-76.3965\"/>\n",
       "<polygon fill=\"#000000\" stroke=\"#000000\" points=\"426.2845,-74.1953 417.5057,-68.2637 420.6694,-78.3752 426.2845,-74.1953\"/>\n",
       "</g>\n",
       "<!-- 8 -->\n",
       "<g id=\"node9\" class=\"node\">\n",
       "<title>8</title>\n",
       "<path fill=\"#e68844\" stroke=\"#000000\" d=\"M610,-68C610,-68 490,-68 490,-68 484,-68 478,-62 478,-56 478,-56 478,-12 478,-12 478,-6 484,0 490,0 490,0 610,0 610,0 616,0 622,-6 622,-12 622,-12 622,-56 622,-56 622,-62 616,-68 610,-68\"/>\n",
       "<text text-anchor=\"start\" x=\"513.5\" y=\"-52.8\" font-family=\"Helvetica,sans-Serif\" font-size=\"14.00\" fill=\"#000000\">gini = 0.099</text>\n",
       "<text text-anchor=\"start\" x=\"496\" y=\"-37.8\" font-family=\"Helvetica,sans-Serif\" font-size=\"14.00\" fill=\"#000000\">samples = 12274</text>\n",
       "<text text-anchor=\"start\" x=\"486\" y=\"-22.8\" font-family=\"Helvetica,sans-Serif\" font-size=\"14.00\" fill=\"#000000\">value = [11632, 642]</text>\n",
       "<text text-anchor=\"start\" x=\"522\" y=\"-7.8\" font-family=\"Helvetica,sans-Serif\" font-size=\"14.00\" fill=\"#000000\">class = 0</text>\n",
       "</g>\n",
       "<!-- 6&#45;&gt;8 -->\n",
       "<g id=\"edge8\" class=\"edge\">\n",
       "<title>6&#45;&gt;8</title>\n",
       "<path fill=\"none\" stroke=\"#000000\" d=\"M502.9272,-103.9815C508.9238,-95.0666 515.2704,-85.6313 521.2959,-76.6734\"/>\n",
       "<polygon fill=\"#000000\" stroke=\"#000000\" points=\"524.2755,-78.5147 526.9527,-68.2637 518.4672,-74.6078 524.2755,-78.5147\"/>\n",
       "</g>\n",
       "<!-- 10 -->\n",
       "<g id=\"node11\" class=\"node\">\n",
       "<title>10</title>\n",
       "<path fill=\"#f3c5a3\" stroke=\"#000000\" d=\"M872.5,-187C872.5,-187 747.5,-187 747.5,-187 741.5,-187 735.5,-181 735.5,-175 735.5,-175 735.5,-116 735.5,-116 735.5,-110 741.5,-104 747.5,-104 747.5,-104 872.5,-104 872.5,-104 878.5,-104 884.5,-110 884.5,-116 884.5,-116 884.5,-175 884.5,-175 884.5,-181 878.5,-187 872.5,-187\"/>\n",
       "<text text-anchor=\"start\" x=\"743.5\" y=\"-171.8\" font-family=\"Helvetica,sans-Serif\" font-size=\"14.00\" fill=\"#000000\">marital_married ≤ 0.5</text>\n",
       "<text text-anchor=\"start\" x=\"773.5\" y=\"-156.8\" font-family=\"Helvetica,sans-Serif\" font-size=\"14.00\" fill=\"#000000\">gini = 0.455</text>\n",
       "<text text-anchor=\"start\" x=\"764\" y=\"-141.8\" font-family=\"Helvetica,sans-Serif\" font-size=\"14.00\" fill=\"#000000\">samples = 615</text>\n",
       "<text text-anchor=\"start\" x=\"754\" y=\"-126.8\" font-family=\"Helvetica,sans-Serif\" font-size=\"14.00\" fill=\"#000000\">value = [400, 215]</text>\n",
       "<text text-anchor=\"start\" x=\"782\" y=\"-111.8\" font-family=\"Helvetica,sans-Serif\" font-size=\"14.00\" fill=\"#000000\">class = 0</text>\n",
       "</g>\n",
       "<!-- 9&#45;&gt;10 -->\n",
       "<g id=\"edge10\" class=\"edge\">\n",
       "<title>9&#45;&gt;10</title>\n",
       "<path fill=\"none\" stroke=\"#000000\" d=\"M866.5716,-222.8796C860.1189,-214.0534 853.243,-204.6485 846.5887,-195.5466\"/>\n",
       "<polygon fill=\"#000000\" stroke=\"#000000\" points=\"849.2856,-193.3051 840.5583,-187.2981 843.6347,-197.4364 849.2856,-193.3051\"/>\n",
       "</g>\n",
       "<!-- 13 -->\n",
       "<g id=\"node14\" class=\"node\">\n",
       "<title>13</title>\n",
       "<path fill=\"#fcfeff\" stroke=\"#000000\" d=\"M1055.5,-187C1055.5,-187 914.5,-187 914.5,-187 908.5,-187 902.5,-181 902.5,-175 902.5,-175 902.5,-116 902.5,-116 902.5,-110 908.5,-104 914.5,-104 914.5,-104 1055.5,-104 1055.5,-104 1061.5,-104 1067.5,-110 1067.5,-116 1067.5,-116 1067.5,-175 1067.5,-175 1067.5,-181 1061.5,-187 1055.5,-187\"/>\n",
       "<text text-anchor=\"start\" x=\"910.5\" y=\"-171.8\" font-family=\"Helvetica,sans-Serif\" font-size=\"14.00\" fill=\"#000000\">job_self&#45;employed ≤ 0.5</text>\n",
       "<text text-anchor=\"start\" x=\"956\" y=\"-156.8\" font-family=\"Helvetica,sans-Serif\" font-size=\"14.00\" fill=\"#000000\">gini = 0.5</text>\n",
       "<text text-anchor=\"start\" x=\"939\" y=\"-141.8\" font-family=\"Helvetica,sans-Serif\" font-size=\"14.00\" fill=\"#000000\">samples = 137</text>\n",
       "<text text-anchor=\"start\" x=\"936.5\" y=\"-126.8\" font-family=\"Helvetica,sans-Serif\" font-size=\"14.00\" fill=\"#000000\">value = [68, 69]</text>\n",
       "<text text-anchor=\"start\" x=\"957\" y=\"-111.8\" font-family=\"Helvetica,sans-Serif\" font-size=\"14.00\" fill=\"#000000\">class = 1</text>\n",
       "</g>\n",
       "<!-- 9&#45;&gt;13 -->\n",
       "<g id=\"edge13\" class=\"edge\">\n",
       "<title>9&#45;&gt;13</title>\n",
       "<path fill=\"none\" stroke=\"#000000\" d=\"M927.7781,-222.8796C934.3051,-214.0534 941.2599,-204.6485 947.9908,-195.5466\"/>\n",
       "<polygon fill=\"#000000\" stroke=\"#000000\" points=\"950.9588,-197.4195 954.0905,-187.2981 945.3305,-193.2574 950.9588,-197.4195\"/>\n",
       "</g>\n",
       "<!-- 11 -->\n",
       "<g id=\"node12\" class=\"node\">\n",
       "<title>11</title>\n",
       "<path fill=\"#ea995f\" stroke=\"#000000\" d=\"M733.5,-68C733.5,-68 652.5,-68 652.5,-68 646.5,-68 640.5,-62 640.5,-56 640.5,-56 640.5,-12 640.5,-12 640.5,-6 646.5,0 652.5,0 652.5,0 733.5,0 733.5,0 739.5,0 745.5,-6 745.5,-12 745.5,-12 745.5,-56 745.5,-56 745.5,-62 739.5,-68 733.5,-68\"/>\n",
       "<text text-anchor=\"start\" x=\"656.5\" y=\"-52.8\" font-family=\"Helvetica,sans-Serif\" font-size=\"14.00\" fill=\"#000000\">gini = 0.269</text>\n",
       "<text text-anchor=\"start\" x=\"651\" y=\"-37.8\" font-family=\"Helvetica,sans-Serif\" font-size=\"14.00\" fill=\"#000000\">samples = 25</text>\n",
       "<text text-anchor=\"start\" x=\"648.5\" y=\"-22.8\" font-family=\"Helvetica,sans-Serif\" font-size=\"14.00\" fill=\"#000000\">value = [21, 4]</text>\n",
       "<text text-anchor=\"start\" x=\"665\" y=\"-7.8\" font-family=\"Helvetica,sans-Serif\" font-size=\"14.00\" fill=\"#000000\">class = 0</text>\n",
       "</g>\n",
       "<!-- 10&#45;&gt;11 -->\n",
       "<g id=\"edge11\" class=\"edge\">\n",
       "<title>10&#45;&gt;11</title>\n",
       "<path fill=\"none\" stroke=\"#000000\" d=\"M766.4335,-103.9815C756.5966,-94.607 746.156,-84.6572 736.3289,-75.2921\"/>\n",
       "<polygon fill=\"#000000\" stroke=\"#000000\" points=\"738.6076,-72.6289 728.9538,-68.2637 733.7784,-77.6963 738.6076,-72.6289\"/>\n",
       "</g>\n",
       "<!-- 12 -->\n",
       "<g id=\"node13\" class=\"node\">\n",
       "<title>12</title>\n",
       "<path fill=\"#f3c7a7\" stroke=\"#000000\" d=\"M880,-68C880,-68 776,-68 776,-68 770,-68 764,-62 764,-56 764,-56 764,-12 764,-12 764,-6 770,0 776,0 776,0 880,0 880,0 886,0 892,-6 892,-12 892,-12 892,-56 892,-56 892,-62 886,-68 880,-68\"/>\n",
       "<text text-anchor=\"start\" x=\"791.5\" y=\"-52.8\" font-family=\"Helvetica,sans-Serif\" font-size=\"14.00\" fill=\"#000000\">gini = 0.459</text>\n",
       "<text text-anchor=\"start\" x=\"782\" y=\"-37.8\" font-family=\"Helvetica,sans-Serif\" font-size=\"14.00\" fill=\"#000000\">samples = 590</text>\n",
       "<text text-anchor=\"start\" x=\"772\" y=\"-22.8\" font-family=\"Helvetica,sans-Serif\" font-size=\"14.00\" fill=\"#000000\">value = [379, 211]</text>\n",
       "<text text-anchor=\"start\" x=\"800\" y=\"-7.8\" font-family=\"Helvetica,sans-Serif\" font-size=\"14.00\" fill=\"#000000\">class = 0</text>\n",
       "</g>\n",
       "<!-- 10&#45;&gt;12 -->\n",
       "<g id=\"edge12\" class=\"edge\">\n",
       "<title>10&#45;&gt;12</title>\n",
       "<path fill=\"none\" stroke=\"#000000\" d=\"M816.7025,-103.9815C818.0527,-95.618 819.4768,-86.7965 820.8418,-78.3409\"/>\n",
       "<polygon fill=\"#000000\" stroke=\"#000000\" points=\"824.3301,-78.6937 822.4686,-68.2637 817.4196,-77.578 824.3301,-78.6937\"/>\n",
       "</g>\n",
       "<!-- 14 -->\n",
       "<g id=\"node15\" class=\"node\">\n",
       "<title>14</title>\n",
       "<path fill=\"#fef9f6\" stroke=\"#000000\" d=\"M1011.5,-68C1011.5,-68 922.5,-68 922.5,-68 916.5,-68 910.5,-62 910.5,-56 910.5,-56 910.5,-12 910.5,-12 910.5,-6 916.5,0 922.5,0 922.5,0 1011.5,0 1011.5,0 1017.5,0 1023.5,-6 1023.5,-12 1023.5,-12 1023.5,-56 1023.5,-56 1023.5,-62 1017.5,-68 1011.5,-68\"/>\n",
       "<text text-anchor=\"start\" x=\"938\" y=\"-52.8\" font-family=\"Helvetica,sans-Serif\" font-size=\"14.00\" fill=\"#000000\">gini = 0.5</text>\n",
       "<text text-anchor=\"start\" x=\"921\" y=\"-37.8\" font-family=\"Helvetica,sans-Serif\" font-size=\"14.00\" fill=\"#000000\">samples = 133</text>\n",
       "<text text-anchor=\"start\" x=\"918.5\" y=\"-22.8\" font-family=\"Helvetica,sans-Serif\" font-size=\"14.00\" fill=\"#000000\">value = [68, 65]</text>\n",
       "<text text-anchor=\"start\" x=\"939\" y=\"-7.8\" font-family=\"Helvetica,sans-Serif\" font-size=\"14.00\" fill=\"#000000\">class = 0</text>\n",
       "</g>\n",
       "<!-- 13&#45;&gt;14 -->\n",
       "<g id=\"edge14\" class=\"edge\">\n",
       "<title>13&#45;&gt;14</title>\n",
       "<path fill=\"none\" stroke=\"#000000\" d=\"M978.2975,-103.9815C976.9473,-95.618 975.5232,-86.7965 974.1582,-78.3409\"/>\n",
       "<polygon fill=\"#000000\" stroke=\"#000000\" points=\"977.5804,-77.578 972.5314,-68.2637 970.6699,-78.6937 977.5804,-77.578\"/>\n",
       "</g>\n",
       "<!-- 15 -->\n",
       "<g id=\"node16\" class=\"node\">\n",
       "<title>15</title>\n",
       "<path fill=\"#399de5\" stroke=\"#000000\" d=\"M1126.5,-68C1126.5,-68 1053.5,-68 1053.5,-68 1047.5,-68 1041.5,-62 1041.5,-56 1041.5,-56 1041.5,-12 1041.5,-12 1041.5,-6 1047.5,0 1053.5,0 1053.5,0 1126.5,0 1126.5,0 1132.5,0 1138.5,-6 1138.5,-12 1138.5,-12 1138.5,-56 1138.5,-56 1138.5,-62 1132.5,-68 1126.5,-68\"/>\n",
       "<text text-anchor=\"start\" x=\"1061\" y=\"-52.8\" font-family=\"Helvetica,sans-Serif\" font-size=\"14.00\" fill=\"#000000\">gini = 0.0</text>\n",
       "<text text-anchor=\"start\" x=\"1052\" y=\"-37.8\" font-family=\"Helvetica,sans-Serif\" font-size=\"14.00\" fill=\"#000000\">samples = 4</text>\n",
       "<text text-anchor=\"start\" x=\"1049.5\" y=\"-22.8\" font-family=\"Helvetica,sans-Serif\" font-size=\"14.00\" fill=\"#000000\">value = [0, 4]</text>\n",
       "<text text-anchor=\"start\" x=\"1062\" y=\"-7.8\" font-family=\"Helvetica,sans-Serif\" font-size=\"14.00\" fill=\"#000000\">class = 1</text>\n",
       "</g>\n",
       "<!-- 13&#45;&gt;15 -->\n",
       "<g id=\"edge15\" class=\"edge\">\n",
       "<title>13&#45;&gt;15</title>\n",
       "<path fill=\"none\" stroke=\"#000000\" d=\"M1024.0981,-103.9815C1032.8396,-94.6989 1042.1122,-84.8522 1050.8556,-75.5677\"/>\n",
       "<polygon fill=\"#000000\" stroke=\"#000000\" points=\"1053.4261,-77.9433 1057.7338,-68.2637 1048.33,-73.1443 1053.4261,-77.9433\"/>\n",
       "</g>\n",
       "<!-- 17 -->\n",
       "<g id=\"node18\" class=\"node\">\n",
       "<title>17</title>\n",
       "<path fill=\"#f7d6be\" stroke=\"#000000\" d=\"M1475,-306C1475,-306 1355,-306 1355,-306 1349,-306 1343,-300 1343,-294 1343,-294 1343,-235 1343,-235 1343,-229 1349,-223 1355,-223 1355,-223 1475,-223 1475,-223 1481,-223 1487,-229 1487,-235 1487,-235 1487,-294 1487,-294 1487,-300 1481,-306 1475,-306\"/>\n",
       "<text text-anchor=\"start\" x=\"1369\" y=\"-290.8\" font-family=\"Helvetica,sans-Serif\" font-size=\"14.00\" fill=\"#000000\">balance ≤ 68.0</text>\n",
       "<text text-anchor=\"start\" x=\"1378.5\" y=\"-275.8\" font-family=\"Helvetica,sans-Serif\" font-size=\"14.00\" fill=\"#000000\">gini = 0.481</text>\n",
       "<text text-anchor=\"start\" x=\"1365\" y=\"-260.8\" font-family=\"Helvetica,sans-Serif\" font-size=\"14.00\" fill=\"#000000\">samples = 3115</text>\n",
       "<text text-anchor=\"start\" x=\"1351\" y=\"-245.8\" font-family=\"Helvetica,sans-Serif\" font-size=\"14.00\" fill=\"#000000\">value = [1861, 1254]</text>\n",
       "<text text-anchor=\"start\" x=\"1387\" y=\"-230.8\" font-family=\"Helvetica,sans-Serif\" font-size=\"14.00\" fill=\"#000000\">class = 0</text>\n",
       "</g>\n",
       "<!-- 16&#45;&gt;17 -->\n",
       "<g id=\"edge17\" class=\"edge\">\n",
       "<title>16&#45;&gt;17</title>\n",
       "<path fill=\"none\" stroke=\"#000000\" d=\"M1415,-341.8796C1415,-333.6838 1415,-324.9891 1415,-316.5013\"/>\n",
       "<polygon fill=\"#000000\" stroke=\"#000000\" points=\"1418.5001,-316.298 1415,-306.2981 1411.5001,-316.2981 1418.5001,-316.298\"/>\n",
       "</g>\n",
       "<!-- 24 -->\n",
       "<g id=\"node25\" class=\"node\">\n",
       "<title>24</title>\n",
       "<path fill=\"#e99356\" stroke=\"#000000\" d=\"M1913,-306C1913,-306 1801,-306 1801,-306 1795,-306 1789,-300 1789,-294 1789,-294 1789,-235 1789,-235 1789,-229 1795,-223 1801,-223 1801,-223 1913,-223 1913,-223 1919,-223 1925,-229 1925,-235 1925,-235 1925,-294 1925,-294 1925,-300 1919,-306 1913,-306\"/>\n",
       "<text text-anchor=\"start\" x=\"1823.5\" y=\"-290.8\" font-family=\"Helvetica,sans-Serif\" font-size=\"14.00\" fill=\"#000000\">age ≤ 60.5</text>\n",
       "<text text-anchor=\"start\" x=\"1820.5\" y=\"-275.8\" font-family=\"Helvetica,sans-Serif\" font-size=\"14.00\" fill=\"#000000\">gini = 0.221</text>\n",
       "<text text-anchor=\"start\" x=\"1807\" y=\"-260.8\" font-family=\"Helvetica,sans-Serif\" font-size=\"14.00\" fill=\"#000000\">samples = 5142</text>\n",
       "<text text-anchor=\"start\" x=\"1797\" y=\"-245.8\" font-family=\"Helvetica,sans-Serif\" font-size=\"14.00\" fill=\"#000000\">value = [4491, 651]</text>\n",
       "<text text-anchor=\"start\" x=\"1829\" y=\"-230.8\" font-family=\"Helvetica,sans-Serif\" font-size=\"14.00\" fill=\"#000000\">class = 0</text>\n",
       "</g>\n",
       "<!-- 16&#45;&gt;24 -->\n",
       "<g id=\"edge24\" class=\"edge\">\n",
       "<title>16&#45;&gt;24</title>\n",
       "<path fill=\"none\" stroke=\"#000000\" d=\"M1487.4924,-363.9828C1567.7446,-342.3765 1696.6241,-307.6781 1779.0168,-285.4955\"/>\n",
       "<polygon fill=\"#000000\" stroke=\"#000000\" points=\"1780.0816,-288.8335 1788.8278,-282.854 1778.2617,-282.0742 1780.0816,-288.8335\"/>\n",
       "</g>\n",
       "<!-- 18 -->\n",
       "<g id=\"node19\" class=\"node\">\n",
       "<title>18</title>\n",
       "<path fill=\"#eead7e\" stroke=\"#000000\" d=\"M1388,-187C1388,-187 1292,-187 1292,-187 1286,-187 1280,-181 1280,-175 1280,-175 1280,-116 1280,-116 1280,-110 1286,-104 1292,-104 1292,-104 1388,-104 1388,-104 1394,-104 1400,-110 1400,-116 1400,-116 1400,-175 1400,-175 1400,-181 1394,-187 1388,-187\"/>\n",
       "<text text-anchor=\"start\" x=\"1295.5\" y=\"-171.8\" font-family=\"Helvetica,sans-Serif\" font-size=\"14.00\" fill=\"#000000\">balance ≤ &#45;1.5</text>\n",
       "<text text-anchor=\"start\" x=\"1303.5\" y=\"-156.8\" font-family=\"Helvetica,sans-Serif\" font-size=\"14.00\" fill=\"#000000\">gini = 0.383</text>\n",
       "<text text-anchor=\"start\" x=\"1294\" y=\"-141.8\" font-family=\"Helvetica,sans-Serif\" font-size=\"14.00\" fill=\"#000000\">samples = 383</text>\n",
       "<text text-anchor=\"start\" x=\"1288\" y=\"-126.8\" font-family=\"Helvetica,sans-Serif\" font-size=\"14.00\" fill=\"#000000\">value = [284, 99]</text>\n",
       "<text text-anchor=\"start\" x=\"1312\" y=\"-111.8\" font-family=\"Helvetica,sans-Serif\" font-size=\"14.00\" fill=\"#000000\">class = 0</text>\n",
       "</g>\n",
       "<!-- 17&#45;&gt;18 -->\n",
       "<g id=\"edge18\" class=\"edge\">\n",
       "<title>17&#45;&gt;18</title>\n",
       "<path fill=\"none\" stroke=\"#000000\" d=\"M1388.7686,-222.8796C1383.2627,-214.1434 1377.3994,-204.8404 1371.7176,-195.8253\"/>\n",
       "<polygon fill=\"#000000\" stroke=\"#000000\" points=\"1374.6363,-193.8919 1366.3433,-187.2981 1368.7143,-197.6242 1374.6363,-193.8919\"/>\n",
       "</g>\n",
       "<!-- 21 -->\n",
       "<g id=\"node22\" class=\"node\">\n",
       "<title>21</title>\n",
       "<path fill=\"#f8ddca\" stroke=\"#000000\" d=\"M1550,-187C1550,-187 1430,-187 1430,-187 1424,-187 1418,-181 1418,-175 1418,-175 1418,-116 1418,-116 1418,-110 1424,-104 1430,-104 1430,-104 1550,-104 1550,-104 1556,-104 1562,-110 1562,-116 1562,-116 1562,-175 1562,-175 1562,-181 1556,-187 1550,-187\"/>\n",
       "<text text-anchor=\"start\" x=\"1442\" y=\"-171.8\" font-family=\"Helvetica,sans-Serif\" font-size=\"14.00\" fill=\"#000000\">campaign ≤ 4.5</text>\n",
       "<text text-anchor=\"start\" x=\"1453.5\" y=\"-156.8\" font-family=\"Helvetica,sans-Serif\" font-size=\"14.00\" fill=\"#000000\">gini = 0.488</text>\n",
       "<text text-anchor=\"start\" x=\"1440\" y=\"-141.8\" font-family=\"Helvetica,sans-Serif\" font-size=\"14.00\" fill=\"#000000\">samples = 2732</text>\n",
       "<text text-anchor=\"start\" x=\"1426\" y=\"-126.8\" font-family=\"Helvetica,sans-Serif\" font-size=\"14.00\" fill=\"#000000\">value = [1577, 1155]</text>\n",
       "<text text-anchor=\"start\" x=\"1462\" y=\"-111.8\" font-family=\"Helvetica,sans-Serif\" font-size=\"14.00\" fill=\"#000000\">class = 0</text>\n",
       "</g>\n",
       "<!-- 17&#45;&gt;21 -->\n",
       "<g id=\"edge21\" class=\"edge\">\n",
       "<title>17&#45;&gt;21</title>\n",
       "<path fill=\"none\" stroke=\"#000000\" d=\"M1441.2314,-222.8796C1446.7373,-214.1434 1452.6006,-204.8404 1458.2824,-195.8253\"/>\n",
       "<polygon fill=\"#000000\" stroke=\"#000000\" points=\"1461.2857,-197.6242 1463.6567,-187.2981 1455.3637,-193.8919 1461.2857,-197.6242\"/>\n",
       "</g>\n",
       "<!-- 19 -->\n",
       "<g id=\"node20\" class=\"node\">\n",
       "<title>19</title>\n",
       "<path fill=\"#e68742\" stroke=\"#000000\" d=\"M1249.5,-68C1249.5,-68 1168.5,-68 1168.5,-68 1162.5,-68 1156.5,-62 1156.5,-56 1156.5,-56 1156.5,-12 1156.5,-12 1156.5,-6 1162.5,0 1168.5,0 1168.5,0 1249.5,0 1249.5,0 1255.5,0 1261.5,-6 1261.5,-12 1261.5,-12 1261.5,-56 1261.5,-56 1261.5,-62 1255.5,-68 1249.5,-68\"/>\n",
       "<text text-anchor=\"start\" x=\"1172.5\" y=\"-52.8\" font-family=\"Helvetica,sans-Serif\" font-size=\"14.00\" fill=\"#000000\">gini = 0.086</text>\n",
       "<text text-anchor=\"start\" x=\"1167\" y=\"-37.8\" font-family=\"Helvetica,sans-Serif\" font-size=\"14.00\" fill=\"#000000\">samples = 67</text>\n",
       "<text text-anchor=\"start\" x=\"1164.5\" y=\"-22.8\" font-family=\"Helvetica,sans-Serif\" font-size=\"14.00\" fill=\"#000000\">value = [64, 3]</text>\n",
       "<text text-anchor=\"start\" x=\"1181\" y=\"-7.8\" font-family=\"Helvetica,sans-Serif\" font-size=\"14.00\" fill=\"#000000\">class = 0</text>\n",
       "</g>\n",
       "<!-- 18&#45;&gt;19 -->\n",
       "<g id=\"edge19\" class=\"edge\">\n",
       "<title>18&#45;&gt;19</title>\n",
       "<path fill=\"none\" stroke=\"#000000\" d=\"M1291.2204,-103.9815C1280.0985,-94.5151 1268.2872,-84.462 1257.1901,-75.0168\"/>\n",
       "<polygon fill=\"#000000\" stroke=\"#000000\" points=\"1259.1396,-72.08 1249.256,-68.2637 1254.6025,-77.4105 1259.1396,-72.08\"/>\n",
       "</g>\n",
       "<!-- 20 -->\n",
       "<g id=\"node21\" class=\"node\">\n",
       "<title>20</title>\n",
       "<path fill=\"#f0b88f\" stroke=\"#000000\" d=\"M1388,-68C1388,-68 1292,-68 1292,-68 1286,-68 1280,-62 1280,-56 1280,-56 1280,-12 1280,-12 1280,-6 1286,0 1292,0 1292,0 1388,0 1388,0 1394,0 1400,-6 1400,-12 1400,-12 1400,-56 1400,-56 1400,-62 1394,-68 1388,-68\"/>\n",
       "<text text-anchor=\"start\" x=\"1303.5\" y=\"-52.8\" font-family=\"Helvetica,sans-Serif\" font-size=\"14.00\" fill=\"#000000\">gini = 0.423</text>\n",
       "<text text-anchor=\"start\" x=\"1294\" y=\"-37.8\" font-family=\"Helvetica,sans-Serif\" font-size=\"14.00\" fill=\"#000000\">samples = 316</text>\n",
       "<text text-anchor=\"start\" x=\"1288\" y=\"-22.8\" font-family=\"Helvetica,sans-Serif\" font-size=\"14.00\" fill=\"#000000\">value = [220, 96]</text>\n",
       "<text text-anchor=\"start\" x=\"1312\" y=\"-7.8\" font-family=\"Helvetica,sans-Serif\" font-size=\"14.00\" fill=\"#000000\">class = 0</text>\n",
       "</g>\n",
       "<!-- 18&#45;&gt;20 -->\n",
       "<g id=\"edge20\" class=\"edge\">\n",
       "<title>18&#45;&gt;20</title>\n",
       "<path fill=\"none\" stroke=\"#000000\" d=\"M1340,-103.9815C1340,-95.618 1340,-86.7965 1340,-78.3409\"/>\n",
       "<polygon fill=\"#000000\" stroke=\"#000000\" points=\"1343.5001,-78.2636 1340,-68.2637 1336.5001,-78.2637 1343.5001,-78.2636\"/>\n",
       "</g>\n",
       "<!-- 22 -->\n",
       "<g id=\"node23\" class=\"node\">\n",
       "<title>22</title>\n",
       "<path fill=\"#f9e1d0\" stroke=\"#000000\" d=\"M1550,-68C1550,-68 1430,-68 1430,-68 1424,-68 1418,-62 1418,-56 1418,-56 1418,-12 1418,-12 1418,-6 1424,0 1430,0 1430,0 1550,0 1550,0 1556,0 1562,-6 1562,-12 1562,-12 1562,-56 1562,-56 1562,-62 1556,-68 1550,-68\"/>\n",
       "<text text-anchor=\"start\" x=\"1453.5\" y=\"-52.8\" font-family=\"Helvetica,sans-Serif\" font-size=\"14.00\" fill=\"#000000\">gini = 0.491</text>\n",
       "<text text-anchor=\"start\" x=\"1440\" y=\"-37.8\" font-family=\"Helvetica,sans-Serif\" font-size=\"14.00\" fill=\"#000000\">samples = 2563</text>\n",
       "<text text-anchor=\"start\" x=\"1426\" y=\"-22.8\" font-family=\"Helvetica,sans-Serif\" font-size=\"14.00\" fill=\"#000000\">value = [1452, 1111]</text>\n",
       "<text text-anchor=\"start\" x=\"1462\" y=\"-7.8\" font-family=\"Helvetica,sans-Serif\" font-size=\"14.00\" fill=\"#000000\">class = 0</text>\n",
       "</g>\n",
       "<!-- 21&#45;&gt;22 -->\n",
       "<g id=\"edge22\" class=\"edge\">\n",
       "<title>21&#45;&gt;22</title>\n",
       "<path fill=\"none\" stroke=\"#000000\" d=\"M1490,-103.9815C1490,-95.618 1490,-86.7965 1490,-78.3409\"/>\n",
       "<polygon fill=\"#000000\" stroke=\"#000000\" points=\"1493.5001,-78.2636 1490,-68.2637 1486.5001,-78.2637 1493.5001,-78.2636\"/>\n",
       "</g>\n",
       "<!-- 23 -->\n",
       "<g id=\"node24\" class=\"node\">\n",
       "<title>23</title>\n",
       "<path fill=\"#eead7f\" stroke=\"#000000\" d=\"M1688,-68C1688,-68 1592,-68 1592,-68 1586,-68 1580,-62 1580,-56 1580,-56 1580,-12 1580,-12 1580,-6 1586,0 1592,0 1592,0 1688,0 1688,0 1694,0 1700,-6 1700,-12 1700,-12 1700,-56 1700,-56 1700,-62 1694,-68 1688,-68\"/>\n",
       "<text text-anchor=\"start\" x=\"1603.5\" y=\"-52.8\" font-family=\"Helvetica,sans-Serif\" font-size=\"14.00\" fill=\"#000000\">gini = 0.385</text>\n",
       "<text text-anchor=\"start\" x=\"1594\" y=\"-37.8\" font-family=\"Helvetica,sans-Serif\" font-size=\"14.00\" fill=\"#000000\">samples = 169</text>\n",
       "<text text-anchor=\"start\" x=\"1588\" y=\"-22.8\" font-family=\"Helvetica,sans-Serif\" font-size=\"14.00\" fill=\"#000000\">value = [125, 44]</text>\n",
       "<text text-anchor=\"start\" x=\"1612\" y=\"-7.8\" font-family=\"Helvetica,sans-Serif\" font-size=\"14.00\" fill=\"#000000\">class = 0</text>\n",
       "</g>\n",
       "<!-- 21&#45;&gt;23 -->\n",
       "<g id=\"edge23\" class=\"edge\">\n",
       "<title>21&#45;&gt;23</title>\n",
       "<path fill=\"none\" stroke=\"#000000\" d=\"M1545.8545,-103.9815C1558.8368,-94.3313 1572.6394,-84.0714 1585.5597,-74.4673\"/>\n",
       "<polygon fill=\"#000000\" stroke=\"#000000\" points=\"1587.9678,-77.0384 1593.9054,-68.2637 1583.7917,-71.4204 1587.9678,-77.0384\"/>\n",
       "</g>\n",
       "<!-- 25 -->\n",
       "<g id=\"node26\" class=\"node\">\n",
       "<title>25</title>\n",
       "<path fill=\"#e99355\" stroke=\"#000000\" d=\"M1916,-187C1916,-187 1798,-187 1798,-187 1792,-187 1786,-181 1786,-175 1786,-175 1786,-116 1786,-116 1786,-110 1792,-104 1798,-104 1798,-104 1916,-104 1916,-104 1922,-104 1928,-110 1928,-116 1928,-116 1928,-175 1928,-175 1928,-181 1922,-187 1916,-187\"/>\n",
       "<text text-anchor=\"start\" x=\"1794\" y=\"-171.8\" font-family=\"Helvetica,sans-Serif\" font-size=\"14.00\" fill=\"#000000\">job_blue&#45;collar ≤ 0.5</text>\n",
       "<text text-anchor=\"start\" x=\"1820.5\" y=\"-156.8\" font-family=\"Helvetica,sans-Serif\" font-size=\"14.00\" fill=\"#000000\">gini = 0.217</text>\n",
       "<text text-anchor=\"start\" x=\"1807\" y=\"-141.8\" font-family=\"Helvetica,sans-Serif\" font-size=\"14.00\" fill=\"#000000\">samples = 5109</text>\n",
       "<text text-anchor=\"start\" x=\"1797\" y=\"-126.8\" font-family=\"Helvetica,sans-Serif\" font-size=\"14.00\" fill=\"#000000\">value = [4478, 631]</text>\n",
       "<text text-anchor=\"start\" x=\"1829\" y=\"-111.8\" font-family=\"Helvetica,sans-Serif\" font-size=\"14.00\" fill=\"#000000\">class = 0</text>\n",
       "</g>\n",
       "<!-- 24&#45;&gt;25 -->\n",
       "<g id=\"edge25\" class=\"edge\">\n",
       "<title>24&#45;&gt;25</title>\n",
       "<path fill=\"none\" stroke=\"#000000\" d=\"M1857,-222.8796C1857,-214.6838 1857,-205.9891 1857,-197.5013\"/>\n",
       "<polygon fill=\"#000000\" stroke=\"#000000\" points=\"1860.5001,-197.298 1857,-187.2981 1853.5001,-197.2981 1860.5001,-197.298\"/>\n",
       "</g>\n",
       "<!-- 28 -->\n",
       "<g id=\"node29\" class=\"node\">\n",
       "<title>28</title>\n",
       "<path fill=\"#baddf6\" stroke=\"#000000\" d=\"M2129,-187C2129,-187 2029,-187 2029,-187 2023,-187 2017,-181 2017,-175 2017,-175 2017,-116 2017,-116 2017,-110 2023,-104 2029,-104 2029,-104 2129,-104 2129,-104 2135,-104 2141,-110 2141,-116 2141,-116 2141,-175 2141,-175 2141,-181 2135,-187 2129,-187\"/>\n",
       "<text text-anchor=\"start\" x=\"2025\" y=\"-171.8\" font-family=\"Helvetica,sans-Serif\" font-size=\"14.00\" fill=\"#000000\">balance ≤ 4660.5</text>\n",
       "<text text-anchor=\"start\" x=\"2042.5\" y=\"-156.8\" font-family=\"Helvetica,sans-Serif\" font-size=\"14.00\" fill=\"#000000\">gini = 0.478</text>\n",
       "<text text-anchor=\"start\" x=\"2037\" y=\"-141.8\" font-family=\"Helvetica,sans-Serif\" font-size=\"14.00\" fill=\"#000000\">samples = 33</text>\n",
       "<text text-anchor=\"start\" x=\"2030.5\" y=\"-126.8\" font-family=\"Helvetica,sans-Serif\" font-size=\"14.00\" fill=\"#000000\">value = [13, 20]</text>\n",
       "<text text-anchor=\"start\" x=\"2051\" y=\"-111.8\" font-family=\"Helvetica,sans-Serif\" font-size=\"14.00\" fill=\"#000000\">class = 1</text>\n",
       "</g>\n",
       "<!-- 24&#45;&gt;28 -->\n",
       "<g id=\"edge28\" class=\"edge\">\n",
       "<title>24&#45;&gt;28</title>\n",
       "<path fill=\"none\" stroke=\"#000000\" d=\"M1925.116,-227.9874C1951.3393,-213.9308 1981.3359,-197.8515 2007.8389,-183.6449\"/>\n",
       "<polygon fill=\"#000000\" stroke=\"#000000\" points=\"2009.5224,-186.7137 2016.6825,-178.9044 2006.2153,-180.5441 2009.5224,-186.7137\"/>\n",
       "</g>\n",
       "<!-- 26 -->\n",
       "<g id=\"node27\" class=\"node\">\n",
       "<title>26</title>\n",
       "<path fill=\"#e99559\" stroke=\"#000000\" d=\"M1842,-68C1842,-68 1730,-68 1730,-68 1724,-68 1718,-62 1718,-56 1718,-56 1718,-12 1718,-12 1718,-6 1724,0 1730,0 1730,0 1842,0 1842,0 1848,0 1854,-6 1854,-12 1854,-12 1854,-56 1854,-56 1854,-62 1848,-68 1842,-68\"/>\n",
       "<text text-anchor=\"start\" x=\"1749.5\" y=\"-52.8\" font-family=\"Helvetica,sans-Serif\" font-size=\"14.00\" fill=\"#000000\">gini = 0.239</text>\n",
       "<text text-anchor=\"start\" x=\"1736\" y=\"-37.8\" font-family=\"Helvetica,sans-Serif\" font-size=\"14.00\" fill=\"#000000\">samples = 3757</text>\n",
       "<text text-anchor=\"start\" x=\"1726\" y=\"-22.8\" font-family=\"Helvetica,sans-Serif\" font-size=\"14.00\" fill=\"#000000\">value = [3235, 522]</text>\n",
       "<text text-anchor=\"start\" x=\"1758\" y=\"-7.8\" font-family=\"Helvetica,sans-Serif\" font-size=\"14.00\" fill=\"#000000\">class = 0</text>\n",
       "</g>\n",
       "<!-- 25&#45;&gt;26 -->\n",
       "<g id=\"edge26\" class=\"edge\">\n",
       "<title>25&#45;&gt;26</title>\n",
       "<path fill=\"none\" stroke=\"#000000\" d=\"M1830.5622,-103.9815C1824.944,-95.1585 1819.0012,-85.8258 1813.3497,-76.9506\"/>\n",
       "<polygon fill=\"#000000\" stroke=\"#000000\" points=\"1816.1416,-74.8188 1807.8181,-68.2637 1810.2371,-78.5787 1816.1416,-74.8188\"/>\n",
       "</g>\n",
       "<!-- 27 -->\n",
       "<g id=\"node28\" class=\"node\">\n",
       "<title>27</title>\n",
       "<path fill=\"#e78c4a\" stroke=\"#000000\" d=\"M1996,-68C1996,-68 1884,-68 1884,-68 1878,-68 1872,-62 1872,-56 1872,-56 1872,-12 1872,-12 1872,-6 1878,0 1884,0 1884,0 1996,0 1996,0 2002,0 2008,-6 2008,-12 2008,-12 2008,-56 2008,-56 2008,-62 2002,-68 1996,-68\"/>\n",
       "<text text-anchor=\"start\" x=\"1903.5\" y=\"-52.8\" font-family=\"Helvetica,sans-Serif\" font-size=\"14.00\" fill=\"#000000\">gini = 0.148</text>\n",
       "<text text-anchor=\"start\" x=\"1890\" y=\"-37.8\" font-family=\"Helvetica,sans-Serif\" font-size=\"14.00\" fill=\"#000000\">samples = 1352</text>\n",
       "<text text-anchor=\"start\" x=\"1880\" y=\"-22.8\" font-family=\"Helvetica,sans-Serif\" font-size=\"14.00\" fill=\"#000000\">value = [1243, 109]</text>\n",
       "<text text-anchor=\"start\" x=\"1912\" y=\"-7.8\" font-family=\"Helvetica,sans-Serif\" font-size=\"14.00\" fill=\"#000000\">class = 0</text>\n",
       "</g>\n",
       "<!-- 25&#45;&gt;27 -->\n",
       "<g id=\"edge27\" class=\"edge\">\n",
       "<title>25&#45;&gt;27</title>\n",
       "<path fill=\"none\" stroke=\"#000000\" d=\"M1887.9061,-103.9815C1894.6108,-94.9747 1901.7108,-85.4367 1908.4403,-76.3965\"/>\n",
       "<polygon fill=\"#000000\" stroke=\"#000000\" points=\"1911.3306,-78.3752 1914.4943,-68.2637 1905.7155,-74.1953 1911.3306,-78.3752\"/>\n",
       "</g>\n",
       "<!-- 29 -->\n",
       "<g id=\"node30\" class=\"node\">\n",
       "<title>29</title>\n",
       "<path fill=\"#92c9f1\" stroke=\"#000000\" d=\"M2119.5,-68C2119.5,-68 2038.5,-68 2038.5,-68 2032.5,-68 2026.5,-62 2026.5,-56 2026.5,-56 2026.5,-12 2026.5,-12 2026.5,-6 2032.5,0 2038.5,0 2038.5,0 2119.5,0 2119.5,0 2125.5,0 2131.5,-6 2131.5,-12 2131.5,-12 2131.5,-56 2131.5,-56 2131.5,-62 2125.5,-68 2119.5,-68\"/>\n",
       "<text text-anchor=\"start\" x=\"2042.5\" y=\"-52.8\" font-family=\"Helvetica,sans-Serif\" font-size=\"14.00\" fill=\"#000000\">gini = 0.428</text>\n",
       "<text text-anchor=\"start\" x=\"2037\" y=\"-37.8\" font-family=\"Helvetica,sans-Serif\" font-size=\"14.00\" fill=\"#000000\">samples = 29</text>\n",
       "<text text-anchor=\"start\" x=\"2034.5\" y=\"-22.8\" font-family=\"Helvetica,sans-Serif\" font-size=\"14.00\" fill=\"#000000\">value = [9, 20]</text>\n",
       "<text text-anchor=\"start\" x=\"2051\" y=\"-7.8\" font-family=\"Helvetica,sans-Serif\" font-size=\"14.00\" fill=\"#000000\">class = 1</text>\n",
       "</g>\n",
       "<!-- 28&#45;&gt;29 -->\n",
       "<g id=\"edge29\" class=\"edge\">\n",
       "<title>28&#45;&gt;29</title>\n",
       "<path fill=\"none\" stroke=\"#000000\" d=\"M2079,-103.9815C2079,-95.618 2079,-86.7965 2079,-78.3409\"/>\n",
       "<polygon fill=\"#000000\" stroke=\"#000000\" points=\"2082.5001,-78.2636 2079,-68.2637 2075.5001,-78.2637 2082.5001,-78.2636\"/>\n",
       "</g>\n",
       "<!-- 30 -->\n",
       "<g id=\"node31\" class=\"node\">\n",
       "<title>30</title>\n",
       "<path fill=\"#e58139\" stroke=\"#000000\" d=\"M2234.5,-68C2234.5,-68 2161.5,-68 2161.5,-68 2155.5,-68 2149.5,-62 2149.5,-56 2149.5,-56 2149.5,-12 2149.5,-12 2149.5,-6 2155.5,0 2161.5,0 2161.5,0 2234.5,0 2234.5,0 2240.5,0 2246.5,-6 2246.5,-12 2246.5,-12 2246.5,-56 2246.5,-56 2246.5,-62 2240.5,-68 2234.5,-68\"/>\n",
       "<text text-anchor=\"start\" x=\"2169\" y=\"-52.8\" font-family=\"Helvetica,sans-Serif\" font-size=\"14.00\" fill=\"#000000\">gini = 0.0</text>\n",
       "<text text-anchor=\"start\" x=\"2160\" y=\"-37.8\" font-family=\"Helvetica,sans-Serif\" font-size=\"14.00\" fill=\"#000000\">samples = 4</text>\n",
       "<text text-anchor=\"start\" x=\"2157.5\" y=\"-22.8\" font-family=\"Helvetica,sans-Serif\" font-size=\"14.00\" fill=\"#000000\">value = [4, 0]</text>\n",
       "<text text-anchor=\"start\" x=\"2170\" y=\"-7.8\" font-family=\"Helvetica,sans-Serif\" font-size=\"14.00\" fill=\"#000000\">class = 0</text>\n",
       "</g>\n",
       "<!-- 28&#45;&gt;30 -->\n",
       "<g id=\"edge30\" class=\"edge\">\n",
       "<title>28&#45;&gt;30</title>\n",
       "<path fill=\"none\" stroke=\"#000000\" d=\"M2123.3112,-103.9815C2133.3163,-94.607 2143.9354,-84.6572 2153.9304,-75.2921\"/>\n",
       "<polygon fill=\"#000000\" stroke=\"#000000\" points=\"2156.5274,-77.6551 2161.4316,-68.2637 2151.7412,-72.547 2156.5274,-77.6551\"/>\n",
       "</g>\n",
       "</g>\n",
       "</svg>\n"
      ],
      "text/plain": [
       "<graphviz.files.Source at 0x1a2172b290>"
      ]
     },
     "execution_count": 51,
     "metadata": {},
     "output_type": "execute_result"
    }
   ],
   "source": [
    "display(HTML(\"<style>text {font-size: 10px;}</style>\"))\n",
    "graph"
   ]
  },
  {
   "cell_type": "code",
   "execution_count": null,
   "metadata": {},
   "outputs": [],
   "source": []
  }
 ],
 "metadata": {
  "kernelspec": {
   "display_name": "Python 3",
   "language": "python",
   "name": "python3"
  },
  "language_info": {
   "codemirror_mode": {
    "name": "ipython",
    "version": 3
   },
   "file_extension": ".py",
   "mimetype": "text/x-python",
   "name": "python",
   "nbconvert_exporter": "python",
   "pygments_lexer": "ipython3",
   "version": "3.7.6"
  }
 },
 "nbformat": 4,
 "nbformat_minor": 2
}
